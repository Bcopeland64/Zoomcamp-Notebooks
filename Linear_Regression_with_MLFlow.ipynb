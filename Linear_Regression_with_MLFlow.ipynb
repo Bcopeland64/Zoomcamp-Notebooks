{
 "cells": [
  {
   "cell_type": "code",
   "execution_count": 1,
   "metadata": {},
   "outputs": [
    {
     "name": "stdout",
     "output_type": "stream",
     "text": [
      "Python 3.9.16\n"
     ]
    }
   ],
   "source": [
    "!python -V"
   ]
  },
  {
   "cell_type": "code",
   "execution_count": 2,
   "metadata": {},
   "outputs": [],
   "source": [
    "import pandas as pd\n",
    "import numpy as np\n",
    "import seaborn as sns\n",
    "import matplotlib.pyplot as plt\n",
    "import pickle"
   ]
  },
  {
   "cell_type": "code",
   "execution_count": 3,
   "metadata": {},
   "outputs": [],
   "source": [
    "from sklearn.feature_extraction import DictVectorizer\n",
    "from sklearn.linear_model import LinearRegression\n",
    "from sklearn.linear_model import Lasso\n",
    "from sklearn.linear_model import Ridge\n",
    "from sklearn.metrics import mean_squared_error\n",
    "\n"
   ]
  },
  {
   "cell_type": "code",
   "execution_count": 4,
   "metadata": {},
   "outputs": [
    {
     "data": {
      "text/plain": [
       "<Experiment: artifact_location='./mlruns/1', creation_time=1684942754265, experiment_id='1', last_update_time=1684942754265, lifecycle_stage='active', name='NYC_Taxi', tags={}>"
      ]
     },
     "execution_count": 4,
     "metadata": {},
     "output_type": "execute_result"
    }
   ],
   "source": [
    "import mlflow\n",
    "\n",
    "mlflow.set_tracking_uri(\"sqlite:///mlflow.db\")\n",
    "mlflow.set_experiment(\"NYC_Taxi\")\n",
    "\n"
   ]
  },
  {
   "cell_type": "code",
   "execution_count": 5,
   "metadata": {},
   "outputs": [],
   "source": [
    "df = pd.read_parquet('/home/brandon/MLOps Zoomcamp/yellow_tripdata_2022-01.parquet')"
   ]
  },
  {
   "cell_type": "code",
   "execution_count": 6,
   "metadata": {},
   "outputs": [
    {
     "data": {
      "text/html": [
       "<div>\n",
       "<style scoped>\n",
       "    .dataframe tbody tr th:only-of-type {\n",
       "        vertical-align: middle;\n",
       "    }\n",
       "\n",
       "    .dataframe tbody tr th {\n",
       "        vertical-align: top;\n",
       "    }\n",
       "\n",
       "    .dataframe thead th {\n",
       "        text-align: right;\n",
       "    }\n",
       "</style>\n",
       "<table border=\"1\" class=\"dataframe\">\n",
       "  <thead>\n",
       "    <tr style=\"text-align: right;\">\n",
       "      <th></th>\n",
       "      <th>VendorID</th>\n",
       "      <th>tpep_pickup_datetime</th>\n",
       "      <th>tpep_dropoff_datetime</th>\n",
       "      <th>passenger_count</th>\n",
       "      <th>trip_distance</th>\n",
       "      <th>RatecodeID</th>\n",
       "      <th>store_and_fwd_flag</th>\n",
       "      <th>PULocationID</th>\n",
       "      <th>DOLocationID</th>\n",
       "      <th>payment_type</th>\n",
       "      <th>fare_amount</th>\n",
       "      <th>extra</th>\n",
       "      <th>mta_tax</th>\n",
       "      <th>tip_amount</th>\n",
       "      <th>tolls_amount</th>\n",
       "      <th>improvement_surcharge</th>\n",
       "      <th>total_amount</th>\n",
       "      <th>congestion_surcharge</th>\n",
       "      <th>airport_fee</th>\n",
       "    </tr>\n",
       "  </thead>\n",
       "  <tbody>\n",
       "    <tr>\n",
       "      <th>0</th>\n",
       "      <td>1</td>\n",
       "      <td>2022-01-01 00:35:40</td>\n",
       "      <td>2022-01-01 00:53:29</td>\n",
       "      <td>2.0</td>\n",
       "      <td>3.80</td>\n",
       "      <td>1.0</td>\n",
       "      <td>N</td>\n",
       "      <td>142</td>\n",
       "      <td>236</td>\n",
       "      <td>1</td>\n",
       "      <td>14.50</td>\n",
       "      <td>3.0</td>\n",
       "      <td>0.5</td>\n",
       "      <td>3.65</td>\n",
       "      <td>0.0</td>\n",
       "      <td>0.3</td>\n",
       "      <td>21.95</td>\n",
       "      <td>2.5</td>\n",
       "      <td>0.0</td>\n",
       "    </tr>\n",
       "    <tr>\n",
       "      <th>1</th>\n",
       "      <td>1</td>\n",
       "      <td>2022-01-01 00:33:43</td>\n",
       "      <td>2022-01-01 00:42:07</td>\n",
       "      <td>1.0</td>\n",
       "      <td>2.10</td>\n",
       "      <td>1.0</td>\n",
       "      <td>N</td>\n",
       "      <td>236</td>\n",
       "      <td>42</td>\n",
       "      <td>1</td>\n",
       "      <td>8.00</td>\n",
       "      <td>0.5</td>\n",
       "      <td>0.5</td>\n",
       "      <td>4.00</td>\n",
       "      <td>0.0</td>\n",
       "      <td>0.3</td>\n",
       "      <td>13.30</td>\n",
       "      <td>0.0</td>\n",
       "      <td>0.0</td>\n",
       "    </tr>\n",
       "    <tr>\n",
       "      <th>2</th>\n",
       "      <td>2</td>\n",
       "      <td>2022-01-01 00:53:21</td>\n",
       "      <td>2022-01-01 01:02:19</td>\n",
       "      <td>1.0</td>\n",
       "      <td>0.97</td>\n",
       "      <td>1.0</td>\n",
       "      <td>N</td>\n",
       "      <td>166</td>\n",
       "      <td>166</td>\n",
       "      <td>1</td>\n",
       "      <td>7.50</td>\n",
       "      <td>0.5</td>\n",
       "      <td>0.5</td>\n",
       "      <td>1.76</td>\n",
       "      <td>0.0</td>\n",
       "      <td>0.3</td>\n",
       "      <td>10.56</td>\n",
       "      <td>0.0</td>\n",
       "      <td>0.0</td>\n",
       "    </tr>\n",
       "    <tr>\n",
       "      <th>3</th>\n",
       "      <td>2</td>\n",
       "      <td>2022-01-01 00:25:21</td>\n",
       "      <td>2022-01-01 00:35:23</td>\n",
       "      <td>1.0</td>\n",
       "      <td>1.09</td>\n",
       "      <td>1.0</td>\n",
       "      <td>N</td>\n",
       "      <td>114</td>\n",
       "      <td>68</td>\n",
       "      <td>2</td>\n",
       "      <td>8.00</td>\n",
       "      <td>0.5</td>\n",
       "      <td>0.5</td>\n",
       "      <td>0.00</td>\n",
       "      <td>0.0</td>\n",
       "      <td>0.3</td>\n",
       "      <td>11.80</td>\n",
       "      <td>2.5</td>\n",
       "      <td>0.0</td>\n",
       "    </tr>\n",
       "    <tr>\n",
       "      <th>4</th>\n",
       "      <td>2</td>\n",
       "      <td>2022-01-01 00:36:48</td>\n",
       "      <td>2022-01-01 01:14:20</td>\n",
       "      <td>1.0</td>\n",
       "      <td>4.30</td>\n",
       "      <td>1.0</td>\n",
       "      <td>N</td>\n",
       "      <td>68</td>\n",
       "      <td>163</td>\n",
       "      <td>1</td>\n",
       "      <td>23.50</td>\n",
       "      <td>0.5</td>\n",
       "      <td>0.5</td>\n",
       "      <td>3.00</td>\n",
       "      <td>0.0</td>\n",
       "      <td>0.3</td>\n",
       "      <td>30.30</td>\n",
       "      <td>2.5</td>\n",
       "      <td>0.0</td>\n",
       "    </tr>\n",
       "    <tr>\n",
       "      <th>...</th>\n",
       "      <td>...</td>\n",
       "      <td>...</td>\n",
       "      <td>...</td>\n",
       "      <td>...</td>\n",
       "      <td>...</td>\n",
       "      <td>...</td>\n",
       "      <td>...</td>\n",
       "      <td>...</td>\n",
       "      <td>...</td>\n",
       "      <td>...</td>\n",
       "      <td>...</td>\n",
       "      <td>...</td>\n",
       "      <td>...</td>\n",
       "      <td>...</td>\n",
       "      <td>...</td>\n",
       "      <td>...</td>\n",
       "      <td>...</td>\n",
       "      <td>...</td>\n",
       "      <td>...</td>\n",
       "    </tr>\n",
       "    <tr>\n",
       "      <th>2463926</th>\n",
       "      <td>2</td>\n",
       "      <td>2022-01-31 23:36:53</td>\n",
       "      <td>2022-01-31 23:42:51</td>\n",
       "      <td>NaN</td>\n",
       "      <td>1.32</td>\n",
       "      <td>NaN</td>\n",
       "      <td>None</td>\n",
       "      <td>90</td>\n",
       "      <td>170</td>\n",
       "      <td>0</td>\n",
       "      <td>8.00</td>\n",
       "      <td>0.0</td>\n",
       "      <td>0.5</td>\n",
       "      <td>2.39</td>\n",
       "      <td>0.0</td>\n",
       "      <td>0.3</td>\n",
       "      <td>13.69</td>\n",
       "      <td>NaN</td>\n",
       "      <td>NaN</td>\n",
       "    </tr>\n",
       "    <tr>\n",
       "      <th>2463927</th>\n",
       "      <td>2</td>\n",
       "      <td>2022-01-31 23:44:22</td>\n",
       "      <td>2022-01-31 23:55:01</td>\n",
       "      <td>NaN</td>\n",
       "      <td>4.19</td>\n",
       "      <td>NaN</td>\n",
       "      <td>None</td>\n",
       "      <td>107</td>\n",
       "      <td>75</td>\n",
       "      <td>0</td>\n",
       "      <td>16.80</td>\n",
       "      <td>0.0</td>\n",
       "      <td>0.5</td>\n",
       "      <td>4.35</td>\n",
       "      <td>0.0</td>\n",
       "      <td>0.3</td>\n",
       "      <td>24.45</td>\n",
       "      <td>NaN</td>\n",
       "      <td>NaN</td>\n",
       "    </tr>\n",
       "    <tr>\n",
       "      <th>2463928</th>\n",
       "      <td>2</td>\n",
       "      <td>2022-01-31 23:39:00</td>\n",
       "      <td>2022-01-31 23:50:00</td>\n",
       "      <td>NaN</td>\n",
       "      <td>2.10</td>\n",
       "      <td>NaN</td>\n",
       "      <td>None</td>\n",
       "      <td>113</td>\n",
       "      <td>246</td>\n",
       "      <td>0</td>\n",
       "      <td>11.22</td>\n",
       "      <td>0.0</td>\n",
       "      <td>0.5</td>\n",
       "      <td>2.00</td>\n",
       "      <td>0.0</td>\n",
       "      <td>0.3</td>\n",
       "      <td>16.52</td>\n",
       "      <td>NaN</td>\n",
       "      <td>NaN</td>\n",
       "    </tr>\n",
       "    <tr>\n",
       "      <th>2463929</th>\n",
       "      <td>2</td>\n",
       "      <td>2022-01-31 23:36:42</td>\n",
       "      <td>2022-01-31 23:48:45</td>\n",
       "      <td>NaN</td>\n",
       "      <td>2.92</td>\n",
       "      <td>NaN</td>\n",
       "      <td>None</td>\n",
       "      <td>148</td>\n",
       "      <td>164</td>\n",
       "      <td>0</td>\n",
       "      <td>12.40</td>\n",
       "      <td>0.0</td>\n",
       "      <td>0.5</td>\n",
       "      <td>0.00</td>\n",
       "      <td>0.0</td>\n",
       "      <td>0.3</td>\n",
       "      <td>15.70</td>\n",
       "      <td>NaN</td>\n",
       "      <td>NaN</td>\n",
       "    </tr>\n",
       "    <tr>\n",
       "      <th>2463930</th>\n",
       "      <td>2</td>\n",
       "      <td>2022-01-31 23:46:00</td>\n",
       "      <td>2022-02-01 00:13:00</td>\n",
       "      <td>NaN</td>\n",
       "      <td>8.94</td>\n",
       "      <td>NaN</td>\n",
       "      <td>None</td>\n",
       "      <td>186</td>\n",
       "      <td>181</td>\n",
       "      <td>0</td>\n",
       "      <td>25.48</td>\n",
       "      <td>0.0</td>\n",
       "      <td>0.5</td>\n",
       "      <td>6.28</td>\n",
       "      <td>0.0</td>\n",
       "      <td>0.3</td>\n",
       "      <td>35.06</td>\n",
       "      <td>NaN</td>\n",
       "      <td>NaN</td>\n",
       "    </tr>\n",
       "  </tbody>\n",
       "</table>\n",
       "<p>2463931 rows × 19 columns</p>\n",
       "</div>"
      ],
      "text/plain": [
       "         VendorID tpep_pickup_datetime tpep_dropoff_datetime  passenger_count  \\\n",
       "0               1  2022-01-01 00:35:40   2022-01-01 00:53:29              2.0   \n",
       "1               1  2022-01-01 00:33:43   2022-01-01 00:42:07              1.0   \n",
       "2               2  2022-01-01 00:53:21   2022-01-01 01:02:19              1.0   \n",
       "3               2  2022-01-01 00:25:21   2022-01-01 00:35:23              1.0   \n",
       "4               2  2022-01-01 00:36:48   2022-01-01 01:14:20              1.0   \n",
       "...           ...                  ...                   ...              ...   \n",
       "2463926         2  2022-01-31 23:36:53   2022-01-31 23:42:51              NaN   \n",
       "2463927         2  2022-01-31 23:44:22   2022-01-31 23:55:01              NaN   \n",
       "2463928         2  2022-01-31 23:39:00   2022-01-31 23:50:00              NaN   \n",
       "2463929         2  2022-01-31 23:36:42   2022-01-31 23:48:45              NaN   \n",
       "2463930         2  2022-01-31 23:46:00   2022-02-01 00:13:00              NaN   \n",
       "\n",
       "         trip_distance  RatecodeID store_and_fwd_flag  PULocationID  \\\n",
       "0                 3.80         1.0                  N           142   \n",
       "1                 2.10         1.0                  N           236   \n",
       "2                 0.97         1.0                  N           166   \n",
       "3                 1.09         1.0                  N           114   \n",
       "4                 4.30         1.0                  N            68   \n",
       "...                ...         ...                ...           ...   \n",
       "2463926           1.32         NaN               None            90   \n",
       "2463927           4.19         NaN               None           107   \n",
       "2463928           2.10         NaN               None           113   \n",
       "2463929           2.92         NaN               None           148   \n",
       "2463930           8.94         NaN               None           186   \n",
       "\n",
       "         DOLocationID  payment_type  fare_amount  extra  mta_tax  tip_amount  \\\n",
       "0                 236             1        14.50    3.0      0.5        3.65   \n",
       "1                  42             1         8.00    0.5      0.5        4.00   \n",
       "2                 166             1         7.50    0.5      0.5        1.76   \n",
       "3                  68             2         8.00    0.5      0.5        0.00   \n",
       "4                 163             1        23.50    0.5      0.5        3.00   \n",
       "...               ...           ...          ...    ...      ...         ...   \n",
       "2463926           170             0         8.00    0.0      0.5        2.39   \n",
       "2463927            75             0        16.80    0.0      0.5        4.35   \n",
       "2463928           246             0        11.22    0.0      0.5        2.00   \n",
       "2463929           164             0        12.40    0.0      0.5        0.00   \n",
       "2463930           181             0        25.48    0.0      0.5        6.28   \n",
       "\n",
       "         tolls_amount  improvement_surcharge  total_amount  \\\n",
       "0                 0.0                    0.3         21.95   \n",
       "1                 0.0                    0.3         13.30   \n",
       "2                 0.0                    0.3         10.56   \n",
       "3                 0.0                    0.3         11.80   \n",
       "4                 0.0                    0.3         30.30   \n",
       "...               ...                    ...           ...   \n",
       "2463926           0.0                    0.3         13.69   \n",
       "2463927           0.0                    0.3         24.45   \n",
       "2463928           0.0                    0.3         16.52   \n",
       "2463929           0.0                    0.3         15.70   \n",
       "2463930           0.0                    0.3         35.06   \n",
       "\n",
       "         congestion_surcharge  airport_fee  \n",
       "0                         2.5          0.0  \n",
       "1                         0.0          0.0  \n",
       "2                         0.0          0.0  \n",
       "3                         2.5          0.0  \n",
       "4                         2.5          0.0  \n",
       "...                       ...          ...  \n",
       "2463926                   NaN          NaN  \n",
       "2463927                   NaN          NaN  \n",
       "2463928                   NaN          NaN  \n",
       "2463929                   NaN          NaN  \n",
       "2463930                   NaN          NaN  \n",
       "\n",
       "[2463931 rows x 19 columns]"
      ]
     },
     "execution_count": 6,
     "metadata": {},
     "output_type": "execute_result"
    }
   ],
   "source": [
    "df"
   ]
  },
  {
   "cell_type": "code",
   "execution_count": 7,
   "metadata": {},
   "outputs": [
    {
     "data": {
      "text/plain": [
       "VendorID                 1\n",
       "fare_amount              1\n",
       "congestion_surcharge     1\n",
       "total_amount             1\n",
       "improvement_surcharge    1\n",
       "tolls_amount             1\n",
       "tip_amount               1\n",
       "mta_tax                  1\n",
       "extra                    1\n",
       "payment_type             1\n",
       "tpep_pickup_datetime     1\n",
       "DOLocationID             1\n",
       "PULocationID             1\n",
       "store_and_fwd_flag       1\n",
       "RatecodeID               1\n",
       "trip_distance            1\n",
       "passenger_count          1\n",
       "tpep_dropoff_datetime    1\n",
       "airport_fee              1\n",
       "dtype: int64"
      ]
     },
     "execution_count": 7,
     "metadata": {},
     "output_type": "execute_result"
    }
   ],
   "source": [
    "df.columns.value_counts()"
   ]
  },
  {
   "cell_type": "code",
   "execution_count": 8,
   "metadata": {},
   "outputs": [],
   "source": [
    "df.tpep_pickup_datetime = pd.to_datetime(df['tpep_pickup_datetime'])\n",
    "df.tpep_dropoff_datetime = pd.to_datetime(df['tpep_dropoff_datetime'])"
   ]
  },
  {
   "cell_type": "code",
   "execution_count": 9,
   "metadata": {},
   "outputs": [],
   "source": [
    "df['duration'] = df.tpep_dropoff_datetime -df.tpep_pickup_datetime"
   ]
  },
  {
   "cell_type": "code",
   "execution_count": 10,
   "metadata": {},
   "outputs": [],
   "source": [
    "td = df.duration.iloc[0]"
   ]
  },
  {
   "cell_type": "code",
   "execution_count": 11,
   "metadata": {},
   "outputs": [
    {
     "data": {
      "text/plain": [
       "17.816666666666666"
      ]
     },
     "execution_count": 11,
     "metadata": {},
     "output_type": "execute_result"
    }
   ],
   "source": [
    "td.total_seconds() / 60"
   ]
  },
  {
   "cell_type": "code",
   "execution_count": 12,
   "metadata": {},
   "outputs": [
    {
     "data": {
      "text/plain": [
       "0          17.816667\n",
       "1           8.400000\n",
       "2           8.966667\n",
       "3          10.033333\n",
       "4          37.533333\n",
       "             ...    \n",
       "2463926     5.966667\n",
       "2463927    10.650000\n",
       "2463928    11.000000\n",
       "2463929    12.050000\n",
       "2463930    27.000000\n",
       "Name: duration, Length: 2463931, dtype: float64"
      ]
     },
     "execution_count": 12,
     "metadata": {},
     "output_type": "execute_result"
    }
   ],
   "source": [
    "df.duration.apply(lambda td: td.total_seconds() / 60)"
   ]
  },
  {
   "cell_type": "code",
   "execution_count": 13,
   "metadata": {},
   "outputs": [
    {
     "data": {
      "text/html": [
       "<div>\n",
       "<style scoped>\n",
       "    .dataframe tbody tr th:only-of-type {\n",
       "        vertical-align: middle;\n",
       "    }\n",
       "\n",
       "    .dataframe tbody tr th {\n",
       "        vertical-align: top;\n",
       "    }\n",
       "\n",
       "    .dataframe thead th {\n",
       "        text-align: right;\n",
       "    }\n",
       "</style>\n",
       "<table border=\"1\" class=\"dataframe\">\n",
       "  <thead>\n",
       "    <tr style=\"text-align: right;\">\n",
       "      <th></th>\n",
       "      <th>VendorID</th>\n",
       "      <th>tpep_pickup_datetime</th>\n",
       "      <th>tpep_dropoff_datetime</th>\n",
       "      <th>passenger_count</th>\n",
       "      <th>trip_distance</th>\n",
       "      <th>RatecodeID</th>\n",
       "      <th>store_and_fwd_flag</th>\n",
       "      <th>PULocationID</th>\n",
       "      <th>DOLocationID</th>\n",
       "      <th>payment_type</th>\n",
       "      <th>fare_amount</th>\n",
       "      <th>extra</th>\n",
       "      <th>mta_tax</th>\n",
       "      <th>tip_amount</th>\n",
       "      <th>tolls_amount</th>\n",
       "      <th>improvement_surcharge</th>\n",
       "      <th>total_amount</th>\n",
       "      <th>congestion_surcharge</th>\n",
       "      <th>airport_fee</th>\n",
       "      <th>duration</th>\n",
       "    </tr>\n",
       "  </thead>\n",
       "  <tbody>\n",
       "    <tr>\n",
       "      <th>0</th>\n",
       "      <td>1</td>\n",
       "      <td>2022-01-01 00:35:40</td>\n",
       "      <td>2022-01-01 00:53:29</td>\n",
       "      <td>2.0</td>\n",
       "      <td>3.80</td>\n",
       "      <td>1.0</td>\n",
       "      <td>N</td>\n",
       "      <td>142</td>\n",
       "      <td>236</td>\n",
       "      <td>1</td>\n",
       "      <td>14.50</td>\n",
       "      <td>3.0</td>\n",
       "      <td>0.5</td>\n",
       "      <td>3.65</td>\n",
       "      <td>0.0</td>\n",
       "      <td>0.3</td>\n",
       "      <td>21.95</td>\n",
       "      <td>2.5</td>\n",
       "      <td>0.0</td>\n",
       "      <td>0 days 00:17:49</td>\n",
       "    </tr>\n",
       "    <tr>\n",
       "      <th>1</th>\n",
       "      <td>1</td>\n",
       "      <td>2022-01-01 00:33:43</td>\n",
       "      <td>2022-01-01 00:42:07</td>\n",
       "      <td>1.0</td>\n",
       "      <td>2.10</td>\n",
       "      <td>1.0</td>\n",
       "      <td>N</td>\n",
       "      <td>236</td>\n",
       "      <td>42</td>\n",
       "      <td>1</td>\n",
       "      <td>8.00</td>\n",
       "      <td>0.5</td>\n",
       "      <td>0.5</td>\n",
       "      <td>4.00</td>\n",
       "      <td>0.0</td>\n",
       "      <td>0.3</td>\n",
       "      <td>13.30</td>\n",
       "      <td>0.0</td>\n",
       "      <td>0.0</td>\n",
       "      <td>0 days 00:08:24</td>\n",
       "    </tr>\n",
       "    <tr>\n",
       "      <th>2</th>\n",
       "      <td>2</td>\n",
       "      <td>2022-01-01 00:53:21</td>\n",
       "      <td>2022-01-01 01:02:19</td>\n",
       "      <td>1.0</td>\n",
       "      <td>0.97</td>\n",
       "      <td>1.0</td>\n",
       "      <td>N</td>\n",
       "      <td>166</td>\n",
       "      <td>166</td>\n",
       "      <td>1</td>\n",
       "      <td>7.50</td>\n",
       "      <td>0.5</td>\n",
       "      <td>0.5</td>\n",
       "      <td>1.76</td>\n",
       "      <td>0.0</td>\n",
       "      <td>0.3</td>\n",
       "      <td>10.56</td>\n",
       "      <td>0.0</td>\n",
       "      <td>0.0</td>\n",
       "      <td>0 days 00:08:58</td>\n",
       "    </tr>\n",
       "    <tr>\n",
       "      <th>3</th>\n",
       "      <td>2</td>\n",
       "      <td>2022-01-01 00:25:21</td>\n",
       "      <td>2022-01-01 00:35:23</td>\n",
       "      <td>1.0</td>\n",
       "      <td>1.09</td>\n",
       "      <td>1.0</td>\n",
       "      <td>N</td>\n",
       "      <td>114</td>\n",
       "      <td>68</td>\n",
       "      <td>2</td>\n",
       "      <td>8.00</td>\n",
       "      <td>0.5</td>\n",
       "      <td>0.5</td>\n",
       "      <td>0.00</td>\n",
       "      <td>0.0</td>\n",
       "      <td>0.3</td>\n",
       "      <td>11.80</td>\n",
       "      <td>2.5</td>\n",
       "      <td>0.0</td>\n",
       "      <td>0 days 00:10:02</td>\n",
       "    </tr>\n",
       "    <tr>\n",
       "      <th>4</th>\n",
       "      <td>2</td>\n",
       "      <td>2022-01-01 00:36:48</td>\n",
       "      <td>2022-01-01 01:14:20</td>\n",
       "      <td>1.0</td>\n",
       "      <td>4.30</td>\n",
       "      <td>1.0</td>\n",
       "      <td>N</td>\n",
       "      <td>68</td>\n",
       "      <td>163</td>\n",
       "      <td>1</td>\n",
       "      <td>23.50</td>\n",
       "      <td>0.5</td>\n",
       "      <td>0.5</td>\n",
       "      <td>3.00</td>\n",
       "      <td>0.0</td>\n",
       "      <td>0.3</td>\n",
       "      <td>30.30</td>\n",
       "      <td>2.5</td>\n",
       "      <td>0.0</td>\n",
       "      <td>0 days 00:37:32</td>\n",
       "    </tr>\n",
       "    <tr>\n",
       "      <th>...</th>\n",
       "      <td>...</td>\n",
       "      <td>...</td>\n",
       "      <td>...</td>\n",
       "      <td>...</td>\n",
       "      <td>...</td>\n",
       "      <td>...</td>\n",
       "      <td>...</td>\n",
       "      <td>...</td>\n",
       "      <td>...</td>\n",
       "      <td>...</td>\n",
       "      <td>...</td>\n",
       "      <td>...</td>\n",
       "      <td>...</td>\n",
       "      <td>...</td>\n",
       "      <td>...</td>\n",
       "      <td>...</td>\n",
       "      <td>...</td>\n",
       "      <td>...</td>\n",
       "      <td>...</td>\n",
       "      <td>...</td>\n",
       "    </tr>\n",
       "    <tr>\n",
       "      <th>2463926</th>\n",
       "      <td>2</td>\n",
       "      <td>2022-01-31 23:36:53</td>\n",
       "      <td>2022-01-31 23:42:51</td>\n",
       "      <td>NaN</td>\n",
       "      <td>1.32</td>\n",
       "      <td>NaN</td>\n",
       "      <td>None</td>\n",
       "      <td>90</td>\n",
       "      <td>170</td>\n",
       "      <td>0</td>\n",
       "      <td>8.00</td>\n",
       "      <td>0.0</td>\n",
       "      <td>0.5</td>\n",
       "      <td>2.39</td>\n",
       "      <td>0.0</td>\n",
       "      <td>0.3</td>\n",
       "      <td>13.69</td>\n",
       "      <td>NaN</td>\n",
       "      <td>NaN</td>\n",
       "      <td>0 days 00:05:58</td>\n",
       "    </tr>\n",
       "    <tr>\n",
       "      <th>2463927</th>\n",
       "      <td>2</td>\n",
       "      <td>2022-01-31 23:44:22</td>\n",
       "      <td>2022-01-31 23:55:01</td>\n",
       "      <td>NaN</td>\n",
       "      <td>4.19</td>\n",
       "      <td>NaN</td>\n",
       "      <td>None</td>\n",
       "      <td>107</td>\n",
       "      <td>75</td>\n",
       "      <td>0</td>\n",
       "      <td>16.80</td>\n",
       "      <td>0.0</td>\n",
       "      <td>0.5</td>\n",
       "      <td>4.35</td>\n",
       "      <td>0.0</td>\n",
       "      <td>0.3</td>\n",
       "      <td>24.45</td>\n",
       "      <td>NaN</td>\n",
       "      <td>NaN</td>\n",
       "      <td>0 days 00:10:39</td>\n",
       "    </tr>\n",
       "    <tr>\n",
       "      <th>2463928</th>\n",
       "      <td>2</td>\n",
       "      <td>2022-01-31 23:39:00</td>\n",
       "      <td>2022-01-31 23:50:00</td>\n",
       "      <td>NaN</td>\n",
       "      <td>2.10</td>\n",
       "      <td>NaN</td>\n",
       "      <td>None</td>\n",
       "      <td>113</td>\n",
       "      <td>246</td>\n",
       "      <td>0</td>\n",
       "      <td>11.22</td>\n",
       "      <td>0.0</td>\n",
       "      <td>0.5</td>\n",
       "      <td>2.00</td>\n",
       "      <td>0.0</td>\n",
       "      <td>0.3</td>\n",
       "      <td>16.52</td>\n",
       "      <td>NaN</td>\n",
       "      <td>NaN</td>\n",
       "      <td>0 days 00:11:00</td>\n",
       "    </tr>\n",
       "    <tr>\n",
       "      <th>2463929</th>\n",
       "      <td>2</td>\n",
       "      <td>2022-01-31 23:36:42</td>\n",
       "      <td>2022-01-31 23:48:45</td>\n",
       "      <td>NaN</td>\n",
       "      <td>2.92</td>\n",
       "      <td>NaN</td>\n",
       "      <td>None</td>\n",
       "      <td>148</td>\n",
       "      <td>164</td>\n",
       "      <td>0</td>\n",
       "      <td>12.40</td>\n",
       "      <td>0.0</td>\n",
       "      <td>0.5</td>\n",
       "      <td>0.00</td>\n",
       "      <td>0.0</td>\n",
       "      <td>0.3</td>\n",
       "      <td>15.70</td>\n",
       "      <td>NaN</td>\n",
       "      <td>NaN</td>\n",
       "      <td>0 days 00:12:03</td>\n",
       "    </tr>\n",
       "    <tr>\n",
       "      <th>2463930</th>\n",
       "      <td>2</td>\n",
       "      <td>2022-01-31 23:46:00</td>\n",
       "      <td>2022-02-01 00:13:00</td>\n",
       "      <td>NaN</td>\n",
       "      <td>8.94</td>\n",
       "      <td>NaN</td>\n",
       "      <td>None</td>\n",
       "      <td>186</td>\n",
       "      <td>181</td>\n",
       "      <td>0</td>\n",
       "      <td>25.48</td>\n",
       "      <td>0.0</td>\n",
       "      <td>0.5</td>\n",
       "      <td>6.28</td>\n",
       "      <td>0.0</td>\n",
       "      <td>0.3</td>\n",
       "      <td>35.06</td>\n",
       "      <td>NaN</td>\n",
       "      <td>NaN</td>\n",
       "      <td>0 days 00:27:00</td>\n",
       "    </tr>\n",
       "  </tbody>\n",
       "</table>\n",
       "<p>2463931 rows × 20 columns</p>\n",
       "</div>"
      ],
      "text/plain": [
       "         VendorID tpep_pickup_datetime tpep_dropoff_datetime  passenger_count  \\\n",
       "0               1  2022-01-01 00:35:40   2022-01-01 00:53:29              2.0   \n",
       "1               1  2022-01-01 00:33:43   2022-01-01 00:42:07              1.0   \n",
       "2               2  2022-01-01 00:53:21   2022-01-01 01:02:19              1.0   \n",
       "3               2  2022-01-01 00:25:21   2022-01-01 00:35:23              1.0   \n",
       "4               2  2022-01-01 00:36:48   2022-01-01 01:14:20              1.0   \n",
       "...           ...                  ...                   ...              ...   \n",
       "2463926         2  2022-01-31 23:36:53   2022-01-31 23:42:51              NaN   \n",
       "2463927         2  2022-01-31 23:44:22   2022-01-31 23:55:01              NaN   \n",
       "2463928         2  2022-01-31 23:39:00   2022-01-31 23:50:00              NaN   \n",
       "2463929         2  2022-01-31 23:36:42   2022-01-31 23:48:45              NaN   \n",
       "2463930         2  2022-01-31 23:46:00   2022-02-01 00:13:00              NaN   \n",
       "\n",
       "         trip_distance  RatecodeID store_and_fwd_flag  PULocationID  \\\n",
       "0                 3.80         1.0                  N           142   \n",
       "1                 2.10         1.0                  N           236   \n",
       "2                 0.97         1.0                  N           166   \n",
       "3                 1.09         1.0                  N           114   \n",
       "4                 4.30         1.0                  N            68   \n",
       "...                ...         ...                ...           ...   \n",
       "2463926           1.32         NaN               None            90   \n",
       "2463927           4.19         NaN               None           107   \n",
       "2463928           2.10         NaN               None           113   \n",
       "2463929           2.92         NaN               None           148   \n",
       "2463930           8.94         NaN               None           186   \n",
       "\n",
       "         DOLocationID  payment_type  fare_amount  extra  mta_tax  tip_amount  \\\n",
       "0                 236             1        14.50    3.0      0.5        3.65   \n",
       "1                  42             1         8.00    0.5      0.5        4.00   \n",
       "2                 166             1         7.50    0.5      0.5        1.76   \n",
       "3                  68             2         8.00    0.5      0.5        0.00   \n",
       "4                 163             1        23.50    0.5      0.5        3.00   \n",
       "...               ...           ...          ...    ...      ...         ...   \n",
       "2463926           170             0         8.00    0.0      0.5        2.39   \n",
       "2463927            75             0        16.80    0.0      0.5        4.35   \n",
       "2463928           246             0        11.22    0.0      0.5        2.00   \n",
       "2463929           164             0        12.40    0.0      0.5        0.00   \n",
       "2463930           181             0        25.48    0.0      0.5        6.28   \n",
       "\n",
       "         tolls_amount  improvement_surcharge  total_amount  \\\n",
       "0                 0.0                    0.3         21.95   \n",
       "1                 0.0                    0.3         13.30   \n",
       "2                 0.0                    0.3         10.56   \n",
       "3                 0.0                    0.3         11.80   \n",
       "4                 0.0                    0.3         30.30   \n",
       "...               ...                    ...           ...   \n",
       "2463926           0.0                    0.3         13.69   \n",
       "2463927           0.0                    0.3         24.45   \n",
       "2463928           0.0                    0.3         16.52   \n",
       "2463929           0.0                    0.3         15.70   \n",
       "2463930           0.0                    0.3         35.06   \n",
       "\n",
       "         congestion_surcharge  airport_fee        duration  \n",
       "0                         2.5          0.0 0 days 00:17:49  \n",
       "1                         0.0          0.0 0 days 00:08:24  \n",
       "2                         0.0          0.0 0 days 00:08:58  \n",
       "3                         2.5          0.0 0 days 00:10:02  \n",
       "4                         2.5          0.0 0 days 00:37:32  \n",
       "...                       ...          ...             ...  \n",
       "2463926                   NaN          NaN 0 days 00:05:58  \n",
       "2463927                   NaN          NaN 0 days 00:10:39  \n",
       "2463928                   NaN          NaN 0 days 00:11:00  \n",
       "2463929                   NaN          NaN 0 days 00:12:03  \n",
       "2463930                   NaN          NaN 0 days 00:27:00  \n",
       "\n",
       "[2463931 rows x 20 columns]"
      ]
     },
     "execution_count": 13,
     "metadata": {},
     "output_type": "execute_result"
    }
   ],
   "source": [
    "df"
   ]
  },
  {
   "cell_type": "code",
   "execution_count": 14,
   "metadata": {},
   "outputs": [
    {
     "name": "stderr",
     "output_type": "stream",
     "text": [
      "/tmp/ipykernel_16899/3426635498.py:1: UserWarning: \n",
      "\n",
      "`distplot` is a deprecated function and will be removed in seaborn v0.14.0.\n",
      "\n",
      "Please adapt your code to use either `displot` (a figure-level function with\n",
      "similar flexibility) or `histplot` (an axes-level function for histograms).\n",
      "\n",
      "For a guide to updating your code to use the new functions, please see\n",
      "https://gist.github.com/mwaskom/de44147ed2974457ad6372750bbe5751\n",
      "\n",
      "  sns.distplot(df.duration)\n"
     ]
    },
    {
     "data": {
      "text/plain": [
       "<Axes: xlabel='duration', ylabel='Density'>"
      ]
     },
     "execution_count": 14,
     "metadata": {},
     "output_type": "execute_result"
    },
    {
     "data": {
      "image/png": "[encoded data removed]",
      "text/plain": [
       "<Figure size 640x480 with 1 Axes>"
      ]
     },
     "metadata": {},
     "output_type": "display_data"
    }
   ],
   "source": [
    "sns.distplot(df.duration)"
   ]
  },
  {
   "cell_type": "code",
   "execution_count": 15,
   "metadata": {},
   "outputs": [
    {
     "data": {
      "text/plain": [
       "count                      2463931\n",
       "mean     0 days 00:14:12.732175129\n",
       "std      0 days 00:46:26.718308266\n",
       "min              -3 days +14:37:36\n",
       "50%                0 days 00:10:11\n",
       "95%                0 days 00:31:56\n",
       "98%                0 days 00:42:09\n",
       "99%                0 days 00:50:51\n",
       "max                5 days 21:53:11\n",
       "Name: duration, dtype: object"
      ]
     },
     "execution_count": 15,
     "metadata": {},
     "output_type": "execute_result"
    }
   ],
   "source": [
    "df.duration.describe(percentiles=[0.95, 0.98, 0.99])"
   ]
  },
  {
   "cell_type": "code",
   "execution_count": 16,
   "metadata": {},
   "outputs": [],
   "source": [
    "df = df[(df.duration >= '0 days 01:00:00') & (df.duration <= '0 days 60:00:00')]"
   ]
  },
  {
   "cell_type": "code",
   "execution_count": 17,
   "metadata": {},
   "outputs": [
    {
     "data": {
      "text/html": [
       "<div>\n",
       "<style scoped>\n",
       "    .dataframe tbody tr th:only-of-type {\n",
       "        vertical-align: middle;\n",
       "    }\n",
       "\n",
       "    .dataframe tbody tr th {\n",
       "        vertical-align: top;\n",
       "    }\n",
       "\n",
       "    .dataframe thead th {\n",
       "        text-align: right;\n",
       "    }\n",
       "</style>\n",
       "<table border=\"1\" class=\"dataframe\">\n",
       "  <thead>\n",
       "    <tr style=\"text-align: right;\">\n",
       "      <th></th>\n",
       "      <th>VendorID</th>\n",
       "      <th>tpep_pickup_datetime</th>\n",
       "      <th>tpep_dropoff_datetime</th>\n",
       "      <th>passenger_count</th>\n",
       "      <th>trip_distance</th>\n",
       "      <th>RatecodeID</th>\n",
       "      <th>store_and_fwd_flag</th>\n",
       "      <th>PULocationID</th>\n",
       "      <th>DOLocationID</th>\n",
       "      <th>payment_type</th>\n",
       "      <th>fare_amount</th>\n",
       "      <th>extra</th>\n",
       "      <th>mta_tax</th>\n",
       "      <th>tip_amount</th>\n",
       "      <th>tolls_amount</th>\n",
       "      <th>improvement_surcharge</th>\n",
       "      <th>total_amount</th>\n",
       "      <th>congestion_surcharge</th>\n",
       "      <th>airport_fee</th>\n",
       "      <th>duration</th>\n",
       "    </tr>\n",
       "  </thead>\n",
       "  <tbody>\n",
       "    <tr>\n",
       "      <th>70</th>\n",
       "      <td>2</td>\n",
       "      <td>2022-01-01 00:31:12</td>\n",
       "      <td>2022-01-02 00:00:58</td>\n",
       "      <td>1.0</td>\n",
       "      <td>3.03</td>\n",
       "      <td>1.0</td>\n",
       "      <td>N</td>\n",
       "      <td>79</td>\n",
       "      <td>261</td>\n",
       "      <td>2</td>\n",
       "      <td>15.00</td>\n",
       "      <td>0.5</td>\n",
       "      <td>0.5</td>\n",
       "      <td>0.00</td>\n",
       "      <td>0.00</td>\n",
       "      <td>0.3</td>\n",
       "      <td>18.80</td>\n",
       "      <td>2.5</td>\n",
       "      <td>0.0</td>\n",
       "      <td>0 days 23:29:46</td>\n",
       "    </tr>\n",
       "    <tr>\n",
       "      <th>481</th>\n",
       "      <td>2</td>\n",
       "      <td>2022-01-01 00:15:34</td>\n",
       "      <td>2022-01-01 01:29:42</td>\n",
       "      <td>6.0</td>\n",
       "      <td>16.21</td>\n",
       "      <td>1.0</td>\n",
       "      <td>N</td>\n",
       "      <td>161</td>\n",
       "      <td>134</td>\n",
       "      <td>1</td>\n",
       "      <td>60.50</td>\n",
       "      <td>0.5</td>\n",
       "      <td>0.5</td>\n",
       "      <td>14.17</td>\n",
       "      <td>6.55</td>\n",
       "      <td>0.3</td>\n",
       "      <td>85.02</td>\n",
       "      <td>2.5</td>\n",
       "      <td>0.0</td>\n",
       "      <td>0 days 01:14:08</td>\n",
       "    </tr>\n",
       "    <tr>\n",
       "      <th>575</th>\n",
       "      <td>2</td>\n",
       "      <td>2022-01-01 00:17:11</td>\n",
       "      <td>2022-01-01 23:52:41</td>\n",
       "      <td>1.0</td>\n",
       "      <td>1.48</td>\n",
       "      <td>1.0</td>\n",
       "      <td>N</td>\n",
       "      <td>142</td>\n",
       "      <td>48</td>\n",
       "      <td>1</td>\n",
       "      <td>10.50</td>\n",
       "      <td>0.5</td>\n",
       "      <td>0.5</td>\n",
       "      <td>0.00</td>\n",
       "      <td>0.00</td>\n",
       "      <td>0.3</td>\n",
       "      <td>14.30</td>\n",
       "      <td>2.5</td>\n",
       "      <td>0.0</td>\n",
       "      <td>0 days 23:35:30</td>\n",
       "    </tr>\n",
       "    <tr>\n",
       "      <th>1050</th>\n",
       "      <td>2</td>\n",
       "      <td>2022-01-01 00:35:28</td>\n",
       "      <td>2022-01-02 00:03:07</td>\n",
       "      <td>1.0</td>\n",
       "      <td>4.73</td>\n",
       "      <td>1.0</td>\n",
       "      <td>N</td>\n",
       "      <td>142</td>\n",
       "      <td>125</td>\n",
       "      <td>2</td>\n",
       "      <td>19.00</td>\n",
       "      <td>0.5</td>\n",
       "      <td>0.5</td>\n",
       "      <td>0.00</td>\n",
       "      <td>0.00</td>\n",
       "      <td>0.3</td>\n",
       "      <td>22.80</td>\n",
       "      <td>2.5</td>\n",
       "      <td>0.0</td>\n",
       "      <td>0 days 23:27:39</td>\n",
       "    </tr>\n",
       "    <tr>\n",
       "      <th>1368</th>\n",
       "      <td>2</td>\n",
       "      <td>2022-01-01 00:53:25</td>\n",
       "      <td>2022-01-02 00:50:13</td>\n",
       "      <td>1.0</td>\n",
       "      <td>3.02</td>\n",
       "      <td>1.0</td>\n",
       "      <td>N</td>\n",
       "      <td>68</td>\n",
       "      <td>45</td>\n",
       "      <td>1</td>\n",
       "      <td>13.00</td>\n",
       "      <td>0.5</td>\n",
       "      <td>0.5</td>\n",
       "      <td>4.20</td>\n",
       "      <td>0.00</td>\n",
       "      <td>0.3</td>\n",
       "      <td>21.00</td>\n",
       "      <td>2.5</td>\n",
       "      <td>0.0</td>\n",
       "      <td>0 days 23:56:48</td>\n",
       "    </tr>\n",
       "    <tr>\n",
       "      <th>...</th>\n",
       "      <td>...</td>\n",
       "      <td>...</td>\n",
       "      <td>...</td>\n",
       "      <td>...</td>\n",
       "      <td>...</td>\n",
       "      <td>...</td>\n",
       "      <td>...</td>\n",
       "      <td>...</td>\n",
       "      <td>...</td>\n",
       "      <td>...</td>\n",
       "      <td>...</td>\n",
       "      <td>...</td>\n",
       "      <td>...</td>\n",
       "      <td>...</td>\n",
       "      <td>...</td>\n",
       "      <td>...</td>\n",
       "      <td>...</td>\n",
       "      <td>...</td>\n",
       "      <td>...</td>\n",
       "      <td>...</td>\n",
       "    </tr>\n",
       "    <tr>\n",
       "      <th>2463360</th>\n",
       "      <td>6</td>\n",
       "      <td>2022-01-31 19:01:10</td>\n",
       "      <td>2022-01-31 20:01:37</td>\n",
       "      <td>NaN</td>\n",
       "      <td>4.71</td>\n",
       "      <td>NaN</td>\n",
       "      <td>None</td>\n",
       "      <td>265</td>\n",
       "      <td>42</td>\n",
       "      <td>0</td>\n",
       "      <td>16.75</td>\n",
       "      <td>0.0</td>\n",
       "      <td>0.5</td>\n",
       "      <td>0.00</td>\n",
       "      <td>0.00</td>\n",
       "      <td>0.3</td>\n",
       "      <td>17.55</td>\n",
       "      <td>NaN</td>\n",
       "      <td>NaN</td>\n",
       "      <td>0 days 01:00:27</td>\n",
       "    </tr>\n",
       "    <tr>\n",
       "      <th>2463361</th>\n",
       "      <td>6</td>\n",
       "      <td>2022-01-31 19:01:34</td>\n",
       "      <td>2022-01-31 20:01:41</td>\n",
       "      <td>NaN</td>\n",
       "      <td>7.60</td>\n",
       "      <td>NaN</td>\n",
       "      <td>None</td>\n",
       "      <td>265</td>\n",
       "      <td>152</td>\n",
       "      <td>0</td>\n",
       "      <td>24.43</td>\n",
       "      <td>0.0</td>\n",
       "      <td>0.5</td>\n",
       "      <td>0.00</td>\n",
       "      <td>0.00</td>\n",
       "      <td>0.3</td>\n",
       "      <td>25.23</td>\n",
       "      <td>NaN</td>\n",
       "      <td>NaN</td>\n",
       "      <td>0 days 01:00:07</td>\n",
       "    </tr>\n",
       "    <tr>\n",
       "      <th>2463532</th>\n",
       "      <td>6</td>\n",
       "      <td>2022-01-31 20:01:41</td>\n",
       "      <td>2022-01-31 21:01:55</td>\n",
       "      <td>NaN</td>\n",
       "      <td>11.08</td>\n",
       "      <td>NaN</td>\n",
       "      <td>None</td>\n",
       "      <td>265</td>\n",
       "      <td>69</td>\n",
       "      <td>0</td>\n",
       "      <td>43.20</td>\n",
       "      <td>0.0</td>\n",
       "      <td>0.5</td>\n",
       "      <td>0.00</td>\n",
       "      <td>0.00</td>\n",
       "      <td>0.3</td>\n",
       "      <td>44.00</td>\n",
       "      <td>NaN</td>\n",
       "      <td>NaN</td>\n",
       "      <td>0 days 01:00:14</td>\n",
       "    </tr>\n",
       "    <tr>\n",
       "      <th>2463557</th>\n",
       "      <td>6</td>\n",
       "      <td>2022-01-31 20:01:03</td>\n",
       "      <td>2022-01-31 21:01:59</td>\n",
       "      <td>NaN</td>\n",
       "      <td>7.63</td>\n",
       "      <td>NaN</td>\n",
       "      <td>None</td>\n",
       "      <td>265</td>\n",
       "      <td>76</td>\n",
       "      <td>0</td>\n",
       "      <td>45.20</td>\n",
       "      <td>0.0</td>\n",
       "      <td>0.5</td>\n",
       "      <td>0.00</td>\n",
       "      <td>0.00</td>\n",
       "      <td>0.3</td>\n",
       "      <td>46.00</td>\n",
       "      <td>NaN</td>\n",
       "      <td>NaN</td>\n",
       "      <td>0 days 01:00:56</td>\n",
       "    </tr>\n",
       "    <tr>\n",
       "      <th>2463792</th>\n",
       "      <td>6</td>\n",
       "      <td>2022-01-31 22:01:36</td>\n",
       "      <td>2022-02-01 00:02:09</td>\n",
       "      <td>NaN</td>\n",
       "      <td>10.97</td>\n",
       "      <td>NaN</td>\n",
       "      <td>None</td>\n",
       "      <td>265</td>\n",
       "      <td>141</td>\n",
       "      <td>0</td>\n",
       "      <td>38.64</td>\n",
       "      <td>0.0</td>\n",
       "      <td>0.5</td>\n",
       "      <td>0.00</td>\n",
       "      <td>0.00</td>\n",
       "      <td>0.3</td>\n",
       "      <td>39.44</td>\n",
       "      <td>NaN</td>\n",
       "      <td>NaN</td>\n",
       "      <td>0 days 02:00:33</td>\n",
       "    </tr>\n",
       "  </tbody>\n",
       "</table>\n",
       "<p>12564 rows × 20 columns</p>\n",
       "</div>"
      ],
      "text/plain": [
       "         VendorID tpep_pickup_datetime tpep_dropoff_datetime  passenger_count  \\\n",
       "70              2  2022-01-01 00:31:12   2022-01-02 00:00:58              1.0   \n",
       "481             2  2022-01-01 00:15:34   2022-01-01 01:29:42              6.0   \n",
       "575             2  2022-01-01 00:17:11   2022-01-01 23:52:41              1.0   \n",
       "1050            2  2022-01-01 00:35:28   2022-01-02 00:03:07              1.0   \n",
       "1368            2  2022-01-01 00:53:25   2022-01-02 00:50:13              1.0   \n",
       "...           ...                  ...                   ...              ...   \n",
       "2463360         6  2022-01-31 19:01:10   2022-01-31 20:01:37              NaN   \n",
       "2463361         6  2022-01-31 19:01:34   2022-01-31 20:01:41              NaN   \n",
       "2463532         6  2022-01-31 20:01:41   2022-01-31 21:01:55              NaN   \n",
       "2463557         6  2022-01-31 20:01:03   2022-01-31 21:01:59              NaN   \n",
       "2463792         6  2022-01-31 22:01:36   2022-02-01 00:02:09              NaN   \n",
       "\n",
       "         trip_distance  RatecodeID store_and_fwd_flag  PULocationID  \\\n",
       "70                3.03         1.0                  N            79   \n",
       "481              16.21         1.0                  N           161   \n",
       "575               1.48         1.0                  N           142   \n",
       "1050              4.73         1.0                  N           142   \n",
       "1368              3.02         1.0                  N            68   \n",
       "...                ...         ...                ...           ...   \n",
       "2463360           4.71         NaN               None           265   \n",
       "2463361           7.60         NaN               None           265   \n",
       "2463532          11.08         NaN               None           265   \n",
       "2463557           7.63         NaN               None           265   \n",
       "2463792          10.97         NaN               None           265   \n",
       "\n",
       "         DOLocationID  payment_type  fare_amount  extra  mta_tax  tip_amount  \\\n",
       "70                261             2        15.00    0.5      0.5        0.00   \n",
       "481               134             1        60.50    0.5      0.5       14.17   \n",
       "575                48             1        10.50    0.5      0.5        0.00   \n",
       "1050              125             2        19.00    0.5      0.5        0.00   \n",
       "1368               45             1        13.00    0.5      0.5        4.20   \n",
       "...               ...           ...          ...    ...      ...         ...   \n",
       "2463360            42             0        16.75    0.0      0.5        0.00   \n",
       "2463361           152             0        24.43    0.0      0.5        0.00   \n",
       "2463532            69             0        43.20    0.0      0.5        0.00   \n",
       "2463557            76             0        45.20    0.0      0.5        0.00   \n",
       "2463792           141             0        38.64    0.0      0.5        0.00   \n",
       "\n",
       "         tolls_amount  improvement_surcharge  total_amount  \\\n",
       "70               0.00                    0.3         18.80   \n",
       "481              6.55                    0.3         85.02   \n",
       "575              0.00                    0.3         14.30   \n",
       "1050             0.00                    0.3         22.80   \n",
       "1368             0.00                    0.3         21.00   \n",
       "...               ...                    ...           ...   \n",
       "2463360          0.00                    0.3         17.55   \n",
       "2463361          0.00                    0.3         25.23   \n",
       "2463532          0.00                    0.3         44.00   \n",
       "2463557          0.00                    0.3         46.00   \n",
       "2463792          0.00                    0.3         39.44   \n",
       "\n",
       "         congestion_surcharge  airport_fee        duration  \n",
       "70                        2.5          0.0 0 days 23:29:46  \n",
       "481                       2.5          0.0 0 days 01:14:08  \n",
       "575                       2.5          0.0 0 days 23:35:30  \n",
       "1050                      2.5          0.0 0 days 23:27:39  \n",
       "1368                      2.5          0.0 0 days 23:56:48  \n",
       "...                       ...          ...             ...  \n",
       "2463360                   NaN          NaN 0 days 01:00:27  \n",
       "2463361                   NaN          NaN 0 days 01:00:07  \n",
       "2463532                   NaN          NaN 0 days 01:00:14  \n",
       "2463557                   NaN          NaN 0 days 01:00:56  \n",
       "2463792                   NaN          NaN 0 days 02:00:33  \n",
       "\n",
       "[12564 rows x 20 columns]"
      ]
     },
     "execution_count": 17,
     "metadata": {},
     "output_type": "execute_result"
    }
   ],
   "source": [
    "df"
   ]
  },
  {
   "cell_type": "code",
   "execution_count": 18,
   "metadata": {},
   "outputs": [],
   "source": [
    "categorical = ['PULocationID', 'DOLocationID']\n",
    "numerical = ['trip_distance']\n"
   ]
  },
  {
   "cell_type": "code",
   "execution_count": 19,
   "metadata": {},
   "outputs": [
    {
     "name": "stderr",
     "output_type": "stream",
     "text": [
      "/tmp/ipykernel_16899/790595652.py:1: SettingWithCopyWarning: \n",
      "A value is trying to be set on a copy of a slice from a DataFrame.\n",
      "Try using .loc[row_indexer,col_indexer] = value instead\n",
      "\n",
      "See the caveats in the documentation: https://pandas.pydata.org/pandas-docs/stable/user_guide/indexing.html#returning-a-view-versus-a-copy\n",
      "  df[categorical] = df[categorical].astype('str')\n"
     ]
    }
   ],
   "source": [
    "df[categorical] = df[categorical].astype('str')"
   ]
  },
  {
   "cell_type": "code",
   "execution_count": 20,
   "metadata": {},
   "outputs": [
    {
     "data": {
      "text/plain": [
       "PULocationID    object\n",
       "DOLocationID    object\n",
       "dtype: object"
      ]
     },
     "execution_count": 20,
     "metadata": {},
     "output_type": "execute_result"
    }
   ],
   "source": [
    "df[categorical].dtypes"
   ]
  },
  {
   "cell_type": "code",
   "execution_count": 21,
   "metadata": {},
   "outputs": [],
   "source": [
    "train_dicts = df[categorical + numerical].to_dict(orient='records')"
   ]
  },
  {
   "cell_type": "code",
   "execution_count": 22,
   "metadata": {},
   "outputs": [],
   "source": [
    "dv = DictVectorizer()\n",
    "x_train = dv.fit_transform(train_dicts)"
   ]
  },
  {
   "cell_type": "code",
   "execution_count": 23,
   "metadata": {},
   "outputs": [
    {
     "data": {
      "text/plain": [
       "<12564x477 sparse matrix of type '<class 'numpy.float64'>'\n",
       "\twith 37692 stored elements in Compressed Sparse Row format>"
      ]
     },
     "execution_count": 23,
     "metadata": {},
     "output_type": "execute_result"
    }
   ],
   "source": [
    "x_train"
   ]
  },
  {
   "cell_type": "code",
   "execution_count": 24,
   "metadata": {},
   "outputs": [],
   "source": [
    "target = 'duration'\n",
    "y_train = df[target].values"
   ]
  },
  {
   "cell_type": "code",
   "execution_count": 25,
   "metadata": {},
   "outputs": [
    {
     "data": {
      "text/plain": [
       "array([84586000000000,  4448000000000, 84930000000000, ...,\n",
       "        3614000000000,  3656000000000,  7233000000000],\n",
       "      dtype='timedelta64[ns]')"
      ]
     },
     "execution_count": 25,
     "metadata": {},
     "output_type": "execute_result"
    }
   ],
   "source": [
    "y_train"
   ]
  },
  {
   "cell_type": "code",
   "execution_count": 26,
   "metadata": {},
   "outputs": [
    {
     "data": {
      "text/plain": [
       "LinearRegression()"
      ]
     },
     "execution_count": 26,
     "metadata": {},
     "output_type": "execute_result"
    }
   ],
   "source": [
    "lr = LinearRegression()\n",
    "lr.fit(x_train, y_train)"
   ]
  },
  {
   "cell_type": "code",
   "execution_count": 27,
   "metadata": {},
   "outputs": [],
   "source": [
    "y_pred = lr.predict(x_train)"
   ]
  },
  {
   "cell_type": "code",
   "execution_count": 28,
   "metadata": {},
   "outputs": [
    {
     "name": "stderr",
     "output_type": "stream",
     "text": [
      "/tmp/ipykernel_16899/1672306066.py:1: UserWarning: \n",
      "\n",
      "`distplot` is a deprecated function and will be removed in seaborn v0.14.0.\n",
      "\n",
      "Please adapt your code to use either `displot` (a figure-level function with\n",
      "similar flexibility) or `histplot` (an axes-level function for histograms).\n",
      "\n",
      "For a guide to updating your code to use the new functions, please see\n",
      "https://gist.github.com/mwaskom/de44147ed2974457ad6372750bbe5751\n",
      "\n",
      "  sns.distplot(y_pred, label='prediction')\n",
      "/tmp/ipykernel_16899/1672306066.py:2: UserWarning: \n",
      "\n",
      "`distplot` is a deprecated function and will be removed in seaborn v0.14.0.\n",
      "\n",
      "Please adapt your code to use either `displot` (a figure-level function with\n",
      "similar flexibility) or `histplot` (an axes-level function for histograms).\n",
      "\n",
      "For a guide to updating your code to use the new functions, please see\n",
      "https://gist.github.com/mwaskom/de44147ed2974457ad6372750bbe5751\n",
      "\n",
      "  sns.distplot(y_train, label='actual')\n"
     ]
    },
    {
     "data": {
      "text/plain": [
       "<matplotlib.legend.Legend at 0x7f18b7d01c40>"
      ]
     },
     "execution_count": 28,
     "metadata": {},
     "output_type": "execute_result"
    },
    {
     "data": {
      "image/png": "[encoded data removed]",
      "text/plain": [
       "<Figure size 640x480 with 1 Axes>"
      ]
     },
     "metadata": {},
     "output_type": "display_data"
    }
   ],
   "source": [
    "sns.distplot(y_pred, label='prediction')\n",
    "sns.distplot(y_train, label='actual')\n",
    "\n",
    "plt.legend()"
   ]
  },
  {
   "cell_type": "code",
   "execution_count": 29,
   "metadata": {},
   "outputs": [],
   "source": [
    "\n",
    "\n",
    "# Convert timedelta values to numerical representations (seconds)\n",
    "y_train_seconds = pd.to_timedelta(y_train).total_seconds()\n",
    "y_pred_seconds = pd.to_timedelta(y_pred).total_seconds()\n",
    "\n",
    "# Calculate mean squared error\n",
    "mse = mean_squared_error(y_train_seconds, y_pred_seconds, squared=False)\n",
    "\n",
    "\n",
    "\n"
   ]
  },
  {
   "cell_type": "code",
   "execution_count": 30,
   "metadata": {},
   "outputs": [
    {
     "name": "stdout",
     "output_type": "stream",
     "text": [
      "24680.621154481505\n"
     ]
    }
   ],
   "source": [
    "#Print MSE\n",
    "print(mse)\n"
   ]
  },
  {
   "cell_type": "code",
   "execution_count": 31,
   "metadata": {},
   "outputs": [
    {
     "name": "stderr",
     "output_type": "stream",
     "text": [
      "/home/brandon/anaconda3/lib/python3.9/site-packages/sklearn/linear_model/_coordinate_descent.py:513: ConvergenceWarning: Objective did not converge. You might want to increase the number of iterations. Duality gap: 3.6240282873365766e+30, tolerance: 1.259629306361064e+27\n",
      "  model = cd_fast.sparse_enet_coordinate_descent(\n"
     ]
    }
   ],
   "source": [
    "lasso = Lasso(alpha=1.0)\n",
    "lasso.fit(x_train, y_train)\n",
    "\n",
    "y_pred = lasso.predict(x_train)"
   ]
  },
  {
   "cell_type": "code",
   "execution_count": 32,
   "metadata": {},
   "outputs": [],
   "source": [
    "#Put all previous code into a function\n",
    "def read_dataframe(filename):\n",
    "    df = pd.read_parquet(filename)\n",
    "    \n",
    "    df.tpep_dropoff_datetime = pd.to_datetime(df['tpep_dropoff_datetime'])\n",
    "    df.tpep_pickup_datetime = pd.to_datetime(df['tpep_pickup_datetime'])\n",
    "    \n",
    "    df['duration'] = df.tpep_dropoff_datetime - df.tpep_pickup_datetime\n",
    "    df.duration = df.duration.apply(lambda td: td.total_seconds() / 60)\n",
    "    \n",
    "    df = df[(df.duration >= 0) & (df.duration <= 60)]\n",
    "    \n",
    "    categorical = ['PULocationID', 'DOLocationID']\n",
    "    df[categorical] = df[categorical].astype('str')\n",
    "    \n",
    "    return df"
   ]
  },
  {
   "cell_type": "code",
   "execution_count": 33,
   "metadata": {},
   "outputs": [],
   "source": [
    "df_train = read_dataframe('/home/brandon/MLOps Zoomcamp/yellow_tripdata_2022-01.parquet')\n",
    "df_val = read_dataframe('/home/brandon/MLOps Zoomcamp/yellow_tripdata_2022-02.parquet')"
   ]
  },
  {
   "cell_type": "code",
   "execution_count": 34,
   "metadata": {},
   "outputs": [
    {
     "data": {
      "text/plain": [
       "(2450090, 2950274)"
      ]
     },
     "execution_count": 34,
     "metadata": {},
     "output_type": "execute_result"
    }
   ],
   "source": [
    "len(df_train), len(df_val)"
   ]
  },
  {
   "cell_type": "code",
   "execution_count": 35,
   "metadata": {},
   "outputs": [],
   "source": [
    "categorical = ['PULocationID', 'DOLocationID']\n",
    "numerical = ['trip_distance']\n",
    "\n",
    "dv = DictVectorizer()\n",
    "\n",
    "train_dicts = df_train[categorical + numerical].to_dict(orient='records')\n",
    "x_train = dv.fit_transform(train_dicts)\n",
    "\n",
    "val_dicts = df_val[categorical + numerical].to_dict(orient='records')\n",
    "x_val = dv.transform(val_dicts)\n",
    "\n",
    "target = 'duration'\n",
    "y_train = df_train[target].values\n",
    "y_val = df_val[target].values\n",
    "\n",
    "lr = LinearRegression()\n",
    "lr.fit(x_train, y_train)\n",
    "\n",
    "y_pred = lr.predict(x_val)\n",
    "\n",
    "mse = mean_squared_error(y_val, y_pred, squared=False)"
   ]
  },
  {
   "cell_type": "code",
   "execution_count": 36,
   "metadata": {},
   "outputs": [
    {
     "name": "stdout",
     "output_type": "stream",
     "text": [
      "8.075883222380945\n"
     ]
    }
   ],
   "source": [
    "#Print MSE\n",
    "\n",
    "print(mse)"
   ]
  },
  {
   "cell_type": "code",
   "execution_count": 37,
   "metadata": {},
   "outputs": [],
   "source": [
    "lasso = Lasso(alpha=1.0)\n",
    "lasso.fit(x_train, y_train)\n",
    "\n",
    "y_pred = lasso.predict(x_val)\n",
    "\n",
    "mse = mean_squared_error(y_val, y_pred, squared=False)"
   ]
  },
  {
   "cell_type": "code",
   "execution_count": 38,
   "metadata": {},
   "outputs": [
    {
     "name": "stdout",
     "output_type": "stream",
     "text": [
      "9.756305201183736\n"
     ]
    }
   ],
   "source": [
    "#Print MSE\n",
    "\n",
    "print(mse)"
   ]
  },
  {
   "cell_type": "code",
   "execution_count": 39,
   "metadata": {},
   "outputs": [],
   "source": [
    "ridge = Ridge(alpha=1.0)\n",
    "ridge.fit(x_train, y_train)\n",
    "\n",
    "y_pred = ridge.predict(x_val)\n",
    "\n",
    "mse = mean_squared_error(y_val, y_pred, squared=False)"
   ]
  },
  {
   "cell_type": "code",
   "execution_count": 40,
   "metadata": {},
   "outputs": [
    {
     "name": "stdout",
     "output_type": "stream",
     "text": [
      "8.118532073900516\n"
     ]
    }
   ],
   "source": [
    "#Print MSE\n",
    "\n",
    "print(mse)"
   ]
  },
  {
   "cell_type": "code",
   "execution_count": 41,
   "metadata": {},
   "outputs": [],
   "source": [
    "#try pick up and drop off location as a feature\n",
    "\n",
    "df_train['PU_DO'] = df_train.PULocationID + '_' + df_train.DOLocationID\n",
    "df_val['PU_DO'] = df_val.PULocationID + '_' + df_val.DOLocationID"
   ]
  },
  {
   "cell_type": "code",
   "execution_count": 42,
   "metadata": {},
   "outputs": [
    {
     "data": {
      "text/html": [
       "<div>\n",
       "<style scoped>\n",
       "    .dataframe tbody tr th:only-of-type {\n",
       "        vertical-align: middle;\n",
       "    }\n",
       "\n",
       "    .dataframe tbody tr th {\n",
       "        vertical-align: top;\n",
       "    }\n",
       "\n",
       "    .dataframe thead th {\n",
       "        text-align: right;\n",
       "    }\n",
       "</style>\n",
       "<table border=\"1\" class=\"dataframe\">\n",
       "  <thead>\n",
       "    <tr style=\"text-align: right;\">\n",
       "      <th></th>\n",
       "      <th>VendorID</th>\n",
       "      <th>tpep_pickup_datetime</th>\n",
       "      <th>tpep_dropoff_datetime</th>\n",
       "      <th>passenger_count</th>\n",
       "      <th>trip_distance</th>\n",
       "      <th>RatecodeID</th>\n",
       "      <th>store_and_fwd_flag</th>\n",
       "      <th>PULocationID</th>\n",
       "      <th>DOLocationID</th>\n",
       "      <th>payment_type</th>\n",
       "      <th>...</th>\n",
       "      <th>extra</th>\n",
       "      <th>mta_tax</th>\n",
       "      <th>tip_amount</th>\n",
       "      <th>tolls_amount</th>\n",
       "      <th>improvement_surcharge</th>\n",
       "      <th>total_amount</th>\n",
       "      <th>congestion_surcharge</th>\n",
       "      <th>airport_fee</th>\n",
       "      <th>duration</th>\n",
       "      <th>PU_DO</th>\n",
       "    </tr>\n",
       "  </thead>\n",
       "  <tbody>\n",
       "    <tr>\n",
       "      <th>0</th>\n",
       "      <td>1</td>\n",
       "      <td>2022-02-01 00:06:58</td>\n",
       "      <td>2022-02-01 00:19:24</td>\n",
       "      <td>1.0</td>\n",
       "      <td>5.40</td>\n",
       "      <td>1.0</td>\n",
       "      <td>N</td>\n",
       "      <td>138</td>\n",
       "      <td>252</td>\n",
       "      <td>1</td>\n",
       "      <td>...</td>\n",
       "      <td>1.75</td>\n",
       "      <td>0.5</td>\n",
       "      <td>3.90</td>\n",
       "      <td>0.00</td>\n",
       "      <td>0.3</td>\n",
       "      <td>23.45</td>\n",
       "      <td>0.0</td>\n",
       "      <td>1.25</td>\n",
       "      <td>12.433333</td>\n",
       "      <td>138_252</td>\n",
       "    </tr>\n",
       "    <tr>\n",
       "      <th>1</th>\n",
       "      <td>1</td>\n",
       "      <td>2022-02-01 00:38:22</td>\n",
       "      <td>2022-02-01 00:55:55</td>\n",
       "      <td>1.0</td>\n",
       "      <td>6.40</td>\n",
       "      <td>1.0</td>\n",
       "      <td>N</td>\n",
       "      <td>138</td>\n",
       "      <td>41</td>\n",
       "      <td>2</td>\n",
       "      <td>...</td>\n",
       "      <td>1.75</td>\n",
       "      <td>0.5</td>\n",
       "      <td>0.00</td>\n",
       "      <td>6.55</td>\n",
       "      <td>0.3</td>\n",
       "      <td>30.10</td>\n",
       "      <td>0.0</td>\n",
       "      <td>1.25</td>\n",
       "      <td>17.550000</td>\n",
       "      <td>138_41</td>\n",
       "    </tr>\n",
       "    <tr>\n",
       "      <th>2</th>\n",
       "      <td>1</td>\n",
       "      <td>2022-02-01 00:03:20</td>\n",
       "      <td>2022-02-01 00:26:59</td>\n",
       "      <td>1.0</td>\n",
       "      <td>12.50</td>\n",
       "      <td>1.0</td>\n",
       "      <td>N</td>\n",
       "      <td>138</td>\n",
       "      <td>200</td>\n",
       "      <td>2</td>\n",
       "      <td>...</td>\n",
       "      <td>1.75</td>\n",
       "      <td>0.5</td>\n",
       "      <td>0.00</td>\n",
       "      <td>6.55</td>\n",
       "      <td>0.3</td>\n",
       "      <td>44.60</td>\n",
       "      <td>0.0</td>\n",
       "      <td>1.25</td>\n",
       "      <td>23.650000</td>\n",
       "      <td>138_200</td>\n",
       "    </tr>\n",
       "    <tr>\n",
       "      <th>3</th>\n",
       "      <td>2</td>\n",
       "      <td>2022-02-01 00:08:00</td>\n",
       "      <td>2022-02-01 00:28:05</td>\n",
       "      <td>1.0</td>\n",
       "      <td>9.88</td>\n",
       "      <td>1.0</td>\n",
       "      <td>N</td>\n",
       "      <td>239</td>\n",
       "      <td>200</td>\n",
       "      <td>2</td>\n",
       "      <td>...</td>\n",
       "      <td>0.50</td>\n",
       "      <td>0.5</td>\n",
       "      <td>0.00</td>\n",
       "      <td>3.00</td>\n",
       "      <td>0.3</td>\n",
       "      <td>34.80</td>\n",
       "      <td>2.5</td>\n",
       "      <td>0.00</td>\n",
       "      <td>20.083333</td>\n",
       "      <td>239_200</td>\n",
       "    </tr>\n",
       "    <tr>\n",
       "      <th>4</th>\n",
       "      <td>2</td>\n",
       "      <td>2022-02-01 00:06:48</td>\n",
       "      <td>2022-02-01 00:33:07</td>\n",
       "      <td>1.0</td>\n",
       "      <td>12.16</td>\n",
       "      <td>1.0</td>\n",
       "      <td>N</td>\n",
       "      <td>138</td>\n",
       "      <td>125</td>\n",
       "      <td>1</td>\n",
       "      <td>...</td>\n",
       "      <td>0.50</td>\n",
       "      <td>0.5</td>\n",
       "      <td>8.11</td>\n",
       "      <td>0.00</td>\n",
       "      <td>0.3</td>\n",
       "      <td>48.66</td>\n",
       "      <td>2.5</td>\n",
       "      <td>1.25</td>\n",
       "      <td>26.316667</td>\n",
       "      <td>138_125</td>\n",
       "    </tr>\n",
       "    <tr>\n",
       "      <th>...</th>\n",
       "      <td>...</td>\n",
       "      <td>...</td>\n",
       "      <td>...</td>\n",
       "      <td>...</td>\n",
       "      <td>...</td>\n",
       "      <td>...</td>\n",
       "      <td>...</td>\n",
       "      <td>...</td>\n",
       "      <td>...</td>\n",
       "      <td>...</td>\n",
       "      <td>...</td>\n",
       "      <td>...</td>\n",
       "      <td>...</td>\n",
       "      <td>...</td>\n",
       "      <td>...</td>\n",
       "      <td>...</td>\n",
       "      <td>...</td>\n",
       "      <td>...</td>\n",
       "      <td>...</td>\n",
       "      <td>...</td>\n",
       "      <td>...</td>\n",
       "    </tr>\n",
       "    <tr>\n",
       "      <th>2979426</th>\n",
       "      <td>2</td>\n",
       "      <td>2022-02-28 23:50:00</td>\n",
       "      <td>2022-03-01 00:06:00</td>\n",
       "      <td>NaN</td>\n",
       "      <td>3.40</td>\n",
       "      <td>NaN</td>\n",
       "      <td>None</td>\n",
       "      <td>163</td>\n",
       "      <td>193</td>\n",
       "      <td>0</td>\n",
       "      <td>...</td>\n",
       "      <td>0.00</td>\n",
       "      <td>0.5</td>\n",
       "      <td>0.00</td>\n",
       "      <td>0.00</td>\n",
       "      <td>0.3</td>\n",
       "      <td>17.67</td>\n",
       "      <td>NaN</td>\n",
       "      <td>NaN</td>\n",
       "      <td>16.000000</td>\n",
       "      <td>163_193</td>\n",
       "    </tr>\n",
       "    <tr>\n",
       "      <th>2979427</th>\n",
       "      <td>2</td>\n",
       "      <td>2022-02-28 23:06:57</td>\n",
       "      <td>2022-02-28 23:19:12</td>\n",
       "      <td>NaN</td>\n",
       "      <td>3.48</td>\n",
       "      <td>NaN</td>\n",
       "      <td>None</td>\n",
       "      <td>141</td>\n",
       "      <td>4</td>\n",
       "      <td>0</td>\n",
       "      <td>...</td>\n",
       "      <td>0.00</td>\n",
       "      <td>0.5</td>\n",
       "      <td>2.00</td>\n",
       "      <td>0.00</td>\n",
       "      <td>0.3</td>\n",
       "      <td>19.81</td>\n",
       "      <td>NaN</td>\n",
       "      <td>NaN</td>\n",
       "      <td>12.250000</td>\n",
       "      <td>141_4</td>\n",
       "    </tr>\n",
       "    <tr>\n",
       "      <th>2979428</th>\n",
       "      <td>2</td>\n",
       "      <td>2022-02-28 23:48:13</td>\n",
       "      <td>2022-03-01 00:03:33</td>\n",
       "      <td>NaN</td>\n",
       "      <td>3.05</td>\n",
       "      <td>NaN</td>\n",
       "      <td>None</td>\n",
       "      <td>161</td>\n",
       "      <td>151</td>\n",
       "      <td>0</td>\n",
       "      <td>...</td>\n",
       "      <td>0.00</td>\n",
       "      <td>0.5</td>\n",
       "      <td>3.81</td>\n",
       "      <td>0.00</td>\n",
       "      <td>0.3</td>\n",
       "      <td>21.49</td>\n",
       "      <td>NaN</td>\n",
       "      <td>NaN</td>\n",
       "      <td>15.333333</td>\n",
       "      <td>161_151</td>\n",
       "    </tr>\n",
       "    <tr>\n",
       "      <th>2979429</th>\n",
       "      <td>2</td>\n",
       "      <td>2022-02-28 23:56:41</td>\n",
       "      <td>2022-03-01 00:04:57</td>\n",
       "      <td>NaN</td>\n",
       "      <td>2.62</td>\n",
       "      <td>NaN</td>\n",
       "      <td>None</td>\n",
       "      <td>141</td>\n",
       "      <td>226</td>\n",
       "      <td>0</td>\n",
       "      <td>...</td>\n",
       "      <td>0.00</td>\n",
       "      <td>0.5</td>\n",
       "      <td>1.71</td>\n",
       "      <td>0.00</td>\n",
       "      <td>0.3</td>\n",
       "      <td>17.54</td>\n",
       "      <td>NaN</td>\n",
       "      <td>NaN</td>\n",
       "      <td>8.266667</td>\n",
       "      <td>141_226</td>\n",
       "    </tr>\n",
       "    <tr>\n",
       "      <th>2979430</th>\n",
       "      <td>2</td>\n",
       "      <td>2022-02-28 23:04:00</td>\n",
       "      <td>2022-02-28 23:10:00</td>\n",
       "      <td>NaN</td>\n",
       "      <td>1.41</td>\n",
       "      <td>NaN</td>\n",
       "      <td>None</td>\n",
       "      <td>237</td>\n",
       "      <td>142</td>\n",
       "      <td>0</td>\n",
       "      <td>...</td>\n",
       "      <td>0.00</td>\n",
       "      <td>0.5</td>\n",
       "      <td>2.57</td>\n",
       "      <td>0.00</td>\n",
       "      <td>0.3</td>\n",
       "      <td>14.67</td>\n",
       "      <td>NaN</td>\n",
       "      <td>NaN</td>\n",
       "      <td>6.000000</td>\n",
       "      <td>237_142</td>\n",
       "    </tr>\n",
       "  </tbody>\n",
       "</table>\n",
       "<p>2950274 rows × 21 columns</p>\n",
       "</div>"
      ],
      "text/plain": [
       "         VendorID tpep_pickup_datetime tpep_dropoff_datetime  passenger_count  \\\n",
       "0               1  2022-02-01 00:06:58   2022-02-01 00:19:24              1.0   \n",
       "1               1  2022-02-01 00:38:22   2022-02-01 00:55:55              1.0   \n",
       "2               1  2022-02-01 00:03:20   2022-02-01 00:26:59              1.0   \n",
       "3               2  2022-02-01 00:08:00   2022-02-01 00:28:05              1.0   \n",
       "4               2  2022-02-01 00:06:48   2022-02-01 00:33:07              1.0   \n",
       "...           ...                  ...                   ...              ...   \n",
       "2979426         2  2022-02-28 23:50:00   2022-03-01 00:06:00              NaN   \n",
       "2979427         2  2022-02-28 23:06:57   2022-02-28 23:19:12              NaN   \n",
       "2979428         2  2022-02-28 23:48:13   2022-03-01 00:03:33              NaN   \n",
       "2979429         2  2022-02-28 23:56:41   2022-03-01 00:04:57              NaN   \n",
       "2979430         2  2022-02-28 23:04:00   2022-02-28 23:10:00              NaN   \n",
       "\n",
       "         trip_distance  RatecodeID store_and_fwd_flag PULocationID  \\\n",
       "0                 5.40         1.0                  N          138   \n",
       "1                 6.40         1.0                  N          138   \n",
       "2                12.50         1.0                  N          138   \n",
       "3                 9.88         1.0                  N          239   \n",
       "4                12.16         1.0                  N          138   \n",
       "...                ...         ...                ...          ...   \n",
       "2979426           3.40         NaN               None          163   \n",
       "2979427           3.48         NaN               None          141   \n",
       "2979428           3.05         NaN               None          161   \n",
       "2979429           2.62         NaN               None          141   \n",
       "2979430           1.41         NaN               None          237   \n",
       "\n",
       "        DOLocationID  payment_type  ...  extra  mta_tax  tip_amount  \\\n",
       "0                252             1  ...   1.75      0.5        3.90   \n",
       "1                 41             2  ...   1.75      0.5        0.00   \n",
       "2                200             2  ...   1.75      0.5        0.00   \n",
       "3                200             2  ...   0.50      0.5        0.00   \n",
       "4                125             1  ...   0.50      0.5        8.11   \n",
       "...              ...           ...  ...    ...      ...         ...   \n",
       "2979426          193             0  ...   0.00      0.5        0.00   \n",
       "2979427            4             0  ...   0.00      0.5        2.00   \n",
       "2979428          151             0  ...   0.00      0.5        3.81   \n",
       "2979429          226             0  ...   0.00      0.5        1.71   \n",
       "2979430          142             0  ...   0.00      0.5        2.57   \n",
       "\n",
       "         tolls_amount  improvement_surcharge  total_amount  \\\n",
       "0                0.00                    0.3         23.45   \n",
       "1                6.55                    0.3         30.10   \n",
       "2                6.55                    0.3         44.60   \n",
       "3                3.00                    0.3         34.80   \n",
       "4                0.00                    0.3         48.66   \n",
       "...               ...                    ...           ...   \n",
       "2979426          0.00                    0.3         17.67   \n",
       "2979427          0.00                    0.3         19.81   \n",
       "2979428          0.00                    0.3         21.49   \n",
       "2979429          0.00                    0.3         17.54   \n",
       "2979430          0.00                    0.3         14.67   \n",
       "\n",
       "         congestion_surcharge  airport_fee   duration    PU_DO  \n",
       "0                         0.0         1.25  12.433333  138_252  \n",
       "1                         0.0         1.25  17.550000   138_41  \n",
       "2                         0.0         1.25  23.650000  138_200  \n",
       "3                         2.5         0.00  20.083333  239_200  \n",
       "4                         2.5         1.25  26.316667  138_125  \n",
       "...                       ...          ...        ...      ...  \n",
       "2979426                   NaN          NaN  16.000000  163_193  \n",
       "2979427                   NaN          NaN  12.250000    141_4  \n",
       "2979428                   NaN          NaN  15.333333  161_151  \n",
       "2979429                   NaN          NaN   8.266667  141_226  \n",
       "2979430                   NaN          NaN   6.000000  237_142  \n",
       "\n",
       "[2950274 rows x 21 columns]"
      ]
     },
     "execution_count": 42,
     "metadata": {},
     "output_type": "execute_result"
    }
   ],
   "source": [
    "df_val"
   ]
  },
  {
   "cell_type": "code",
   "execution_count": 43,
   "metadata": {},
   "outputs": [],
   "source": [
    "categorical = ['PU_DO']\n",
    "numerical = ['trip_distance']\n",
    "\n",
    "dv = DictVectorizer()\n",
    "\n",
    "train_dicts = df_train[categorical + numerical].to_dict(orient='records')\n",
    "x_train = dv.fit_transform(train_dicts)\n",
    "\n",
    "val_dicts = df_val[categorical + numerical].to_dict(orient='records')\n",
    "x_val = dv.transform(val_dicts)\n",
    "\n",
    "target = 'duration'\n",
    "y_train = df_train[target].values\n",
    "y_val = df_val[target].values\n",
    "\n",
    "lr = LinearRegression()\n",
    "lr.fit(x_train, y_train)\n",
    "\n",
    "y_pred = lr.predict(x_val)\n",
    "\n",
    "mse = mean_squared_error(y_val, y_pred, squared=False)"
   ]
  },
  {
   "cell_type": "code",
   "execution_count": 44,
   "metadata": {},
   "outputs": [
    {
     "name": "stdout",
     "output_type": "stream",
     "text": [
      "5.643390923134876\n"
     ]
    }
   ],
   "source": [
    "#Print MSE\n",
    "\n",
    "print(mse)"
   ]
  },
  {
   "cell_type": "code",
   "execution_count": 45,
   "metadata": {},
   "outputs": [],
   "source": [
    "with mlflow.start_run():\n",
    "    \n",
    "    mlflow.set_tag('model', 'linear regression')\n",
    "    mlflow.set_tag('developer', 'brandon')\n",
    "    mlflow.log_param('train_data_path', '/home/brandon/MLOps Zoomcamp/yellow_tripdata_2022-01.parquet')\n",
    "    mlflow.log_param('val_data_path', '/home/brandon/MLOps Zoomcamp/yellow_tripdata_2022-02.parquet')\n",
    "    \n",
    "    alpha = 1.0\n",
    "    mlflow.log_param('alpha', alpha)\n",
    "    \n",
    "    lasso = Lasso(alpha)\n",
    "    lasso.fit(x_train, y_train)\n",
    "\n",
    "    y_pred = lasso.predict(x_val)\n",
    "    rmse = mean_squared_error(y_val, y_pred, squared=False)\n",
    "    mlflow.log_metric('rmse', rmse)"
   ]
  },
  {
   "cell_type": "code",
   "execution_count": 46,
   "metadata": {},
   "outputs": [
    {
     "name": "stdout",
     "output_type": "stream",
     "text": [
      "5.643390923134876\n"
     ]
    }
   ],
   "source": [
    "#Print MSE\n",
    "\n",
    "print(mse)"
   ]
  },
  {
   "cell_type": "code",
   "execution_count": 47,
   "metadata": {},
   "outputs": [],
   "source": [
    "with mlflow.start_run():\n",
    "    \n",
    "    mlflow.set_tag('model', 'Ridge Regression')\n",
    "    mlflow.set_tag('developer', 'brandon')\n",
    "    mlflow.log_param('train_data_path', '/home/brandon/MLOps Zoomcamp/yellow_tripdata_2022-01.parquet')\n",
    "    mlflow.log_param('val_data_path', '/home/brandon/MLOps Zoomcamp/yellow_tripdata_2022-02.parquet')\n",
    "    \n",
    "    alpha = 0.5\n",
    "    mlflow.log_param('alpha', alpha)\n",
    "\n",
    "    ridge = Ridge(alpha)\n",
    "    ridge.fit(x_train, y_train)\n",
    "\n",
    "    y_pred = ridge.predict(x_val)\n",
    "    rmse = mean_squared_error(y_val, y_pred, squared=False)\n",
    "    mlflow.log_metric('rmse', rmse)\n",
    "    \n",
    "    mlflow.log_artifact('model1.bin', artifact_path='model_pickle')"
   ]
  },
  {
   "cell_type": "code",
   "execution_count": 48,
   "metadata": {},
   "outputs": [
    {
     "name": "stdout",
     "output_type": "stream",
     "text": [
      "5.643390923134876\n"
     ]
    }
   ],
   "source": [
    "#Print MSE\n",
    "\n",
    "print(mse)"
   ]
  },
  {
   "cell_type": "code",
   "execution_count": 49,
   "metadata": {},
   "outputs": [],
   "source": [
    "#save model\n",
    "with open('model1.bin', 'wb') as f_out:\n",
    "    pickle.dump((dv, lr), f_out)"
   ]
  },
  {
   "cell_type": "code",
   "execution_count": 50,
   "metadata": {},
   "outputs": [],
   "source": [
    "df_train = df_train.sample(n=20_000, random_state=1)"
   ]
  },
  {
   "cell_type": "code",
   "execution_count": 52,
   "metadata": {},
   "outputs": [],
   "source": [
    "#Add XGBoost Models\n",
    "\n",
    "import xgboost as xgb\n",
    "from hyperopt import fmin, tpe, hp, STATUS_OK, Trials\n",
    "from hyperopt.pyll.base import scope"
   ]
  },
  {
   "cell_type": "code",
   "execution_count": 53,
   "metadata": {},
   "outputs": [],
   "source": [
    "train = xgb.DMatrix(x_train, label=y_train)\n",
    "valid = xgb.DMatrix(x_val, label=y_val)"
   ]
  },
  {
   "cell_type": "code",
   "execution_count": 54,
   "metadata": {},
   "outputs": [
    {
     "name": "stdout",
     "output_type": "stream",
     "text": [
      "Train data shape: (2450090, 20776)\n",
      "Train labels shape: (2450090,)\n",
      "Validation data shape: (2950274, 20776)\n",
      "Validation labels shape: (2950274,)\n"
     ]
    }
   ],
   "source": [
    "print(\"Train data shape:\", x_train.shape)\n",
    "print(\"Train labels shape:\", y_train.shape)\n",
    "print(\"Validation data shape:\", x_val.shape)\n",
    "print(\"Validation labels shape:\", y_val.shape)\n"
   ]
  },
  {
   "cell_type": "code",
   "execution_count": 55,
   "metadata": {},
   "outputs": [
    {
     "name": "stdout",
     "output_type": "stream",
     "text": [
      "Missing values in training data:\n",
      "0    0\n",
      "dtype: int64\n",
      "Missing values in validation data:\n",
      "0    0\n",
      "dtype: int64\n"
     ]
    }
   ],
   "source": [
    "import pandas as pd\n",
    "import numpy as np\n",
    "\n",
    "# Assuming x_train is a numpy array\n",
    "x_train = pd.DataFrame(x_train)\n",
    "\n",
    "# Checking for missing values in training data\n",
    "missing_values_train = x_train.isnull().sum()\n",
    "print(\"Missing values in training data:\")\n",
    "print(missing_values_train)\n",
    "\n",
    "# Assuming x_val is a numpy array\n",
    "x_val = pd.DataFrame(x_val)\n",
    "\n",
    "# Checking for missing values in validation data\n",
    "missing_values_valid = x_val.isnull().sum()\n",
    "print(\"Missing values in validation data:\")\n",
    "print(missing_values_valid)\n",
    "\n",
    "\n"
   ]
  },
  {
   "cell_type": "code",
   "execution_count": 56,
   "metadata": {},
   "outputs": [],
   "source": [
    "def objective(params):\n",
    "    \n",
    "    with mlflow.start_run():\n",
    "        mlflow.set_tag('model', 'XGBoost')\n",
    "        mlflow.set_tag('developer', 'brandon')\n",
    "        mlflow.log_params(params)\n",
    "        \n",
    "        mlflow.xgboost.autolog(disable= True)\n",
    "        \n",
    "        booster = xgb.train(\n",
    "            params=params,\n",
    "            dtrain=train,\n",
    "            num_boost_round=30,\n",
    "            evals=[(valid, 'validation')],\n",
    "            early_stopping_rounds=10)\n",
    "        \n",
    "        y_pred = booster.predict(x_val)\n",
    "        rmse = mean_squared_error(y_val, y_pred, squared=False)\n",
    "        mlflow.log_metric('rmse', rmse)\n",
    "        \n",
    "    return {'loss': rmse, 'status': STATUS_OK}\n",
    "  "
   ]
  },
  {
   "cell_type": "code",
   "execution_count": 57,
   "metadata": {},
   "outputs": [
    {
     "name": "stdout",
     "output_type": "stream",
     "text": [
      "100%|██████████| 10/10 [15:37<00:00, 93.73s/trial, best loss: 5.110551818782536] \n",
      "Best Hyperparameters:\n",
      "{'learning_rate': 0.8510748706554431, 'max_depth': 78.0, 'min_child_weight': 2.8554195665299282, 'reg_alpha': 0.029875313029814114, 'reg_lambda': 0.021279100049027527}\n"
     ]
    }
   ],
   "source": [
    "import pandas as pd\n",
    "import xgboost as xgb\n",
    "import hyperopt as hp\n",
    "from hyperopt import fmin, tpe, Trials, STATUS_OK, hp\n",
    "from sklearn.metrics import mean_squared_error\n",
    "import numpy as np\n",
    "\n",
    "# Define search space\n",
    "search_space = {\n",
    "    'learning_rate': hp.loguniform('learning_rate', -3, 0),\n",
    "    'max_depth': hp.quniform('max_depth', 4, 100, 1),\n",
    "    'reg_alpha': hp.loguniform('reg_alpha', -5, -1),\n",
    "    'reg_lambda': hp.loguniform('reg_lambda', -6, -1),\n",
    "    'min_child_weight': hp.loguniform('min_child_weight', -1, 3),\n",
    "    'objective': 'reg:squarederror',\n",
    "    'seed': 42,\n",
    "}\n",
    "\n",
    "# Define the objective function\n",
    "def objective(params):\n",
    "    # Convert max_depth to integer\n",
    "    params['max_depth'] = int(params['max_depth'])\n",
    "\n",
    "    # Train the model with the given parameters\n",
    "    model = xgb.train(params, train, verbose_eval=True)\n",
    "    # Perform evaluation on the validation data\n",
    "    predictions = model.predict(valid)\n",
    "    rmse = np.sqrt(mean_squared_error(y_val, predictions))\n",
    "    return {'loss': rmse, 'status': STATUS_OK}\n",
    "\n",
    "# Run hyperparameter optimization\n",
    "best_result = fmin(\n",
    "    fn=objective,\n",
    "    space=search_space,\n",
    "    algo=tpe.suggest,\n",
    "    max_evals=10,\n",
    "    trials=Trials()\n",
    ")\n",
    "\n",
    "# Print the best hyperparameters\n",
    "print(\"Best Hyperparameters:\")\n",
    "print(best_result)\n",
    "\n",
    "\n",
    "\n",
    "\n"
   ]
  },
  {
   "cell_type": "code",
   "execution_count": 65,
   "metadata": {},
   "outputs": [
    {
     "name": "stdout",
     "output_type": "stream",
     "text": [
      "[0]\tvalidation-rmse:11.14304\n",
      "[1]\tvalidation-rmse:8.25672\n",
      "[2]\tvalidation-rmse:6.73289\n",
      "[3]\tvalidation-rmse:5.96145\n",
      "[4]\tvalidation-rmse:5.57131\n",
      "[5]\tvalidation-rmse:5.36896\n",
      "[6]\tvalidation-rmse:5.25915\n",
      "[7]\tvalidation-rmse:5.19562\n",
      "[8]\tvalidation-rmse:5.15800\n",
      "[9]\tvalidation-rmse:5.13390\n",
      "[10]\tvalidation-rmse:5.12005\n",
      "[11]\tvalidation-rmse:5.11101\n",
      "[12]\tvalidation-rmse:5.10697\n",
      "[13]\tvalidation-rmse:5.10353\n",
      "[14]\tvalidation-rmse:5.10037\n",
      "[15]\tvalidation-rmse:5.09603\n",
      "[16]\tvalidation-rmse:5.09382\n",
      "[17]\tvalidation-rmse:5.09188\n",
      "[18]\tvalidation-rmse:5.08985\n",
      "[19]\tvalidation-rmse:5.08825\n",
      "[20]\tvalidation-rmse:5.08656\n",
      "[21]\tvalidation-rmse:5.08489\n",
      "[22]\tvalidation-rmse:5.08293\n",
      "[23]\tvalidation-rmse:5.08045\n",
      "[24]\tvalidation-rmse:5.07809\n",
      "[25]\tvalidation-rmse:5.07680\n",
      "[26]\tvalidation-rmse:5.07529\n",
      "[27]\tvalidation-rmse:5.07400\n",
      "[28]\tvalidation-rmse:5.07285\n",
      "[29]\tvalidation-rmse:5.07146\n",
      "100%|██████████| 10/10 [12:09<00:00, 72.95s/trial, best loss: 5.133901194260357]\n",
      "Best Hyperparameters:\n",
      "{}\n"
     ]
    }
   ],
   "source": [
    "import xgboost as xgb\n",
    "from hyperopt import fmin, tpe, Trials\n",
    "\n",
    "# Define search space\n",
    "search_space = {\n",
    "    'learning_rate': 0.39413453377376984,\n",
    "    'max_depth': 41,\n",
    "    'reg_alpha': 0.011225289108518981,\n",
    "    'reg_lambda': 0.050637175400720935,\n",
    "    'min_child_weight': 14.1671199968075,\n",
    "    'objective': 'reg:squarederror',\n",
    "    'seed': 42,\n",
    "}\n",
    "\n",
    "# Run the model with best parameters\n",
    "booster = xgb.train(\n",
    "    params=search_space,\n",
    "    dtrain=train,\n",
    "    num_boost_round=30,\n",
    "    evals=[(valid, 'validation')],\n",
    "    early_stopping_rounds=10\n",
    ")\n",
    "\n",
    "# ... (rest of the code)\n",
    "\n",
    "# Run hyperparameter optimization\n",
    "best_result = fmin(\n",
    "    fn=objective,\n",
    "    space=search_space,\n",
    "    algo=tpe.suggest,\n",
    "    max_evals=10,\n",
    "    trials=Trials()\n",
    ")\n",
    "\n",
    "# Print the best hyperparameters\n",
    "print(\"Best Hyperparameters:\")\n",
    "print(best_result)\n"
   ]
  },
  {
   "cell_type": "code",
   "execution_count": 59,
   "metadata": {},
   "outputs": [],
   "source": [
    "logged_model = 'runs:/a1463d2d8974477db5afba630316cd3a/models'\n",
    "\n",
    "# Load model as a PyFuncModel.\n",
    "loaded_model = mlflow.pyfunc.load_model(logged_model)\n",
    "\n"
   ]
  },
  {
   "cell_type": "code",
   "execution_count": 60,
   "metadata": {},
   "outputs": [
    {
     "data": {
      "text/plain": [
       "mlflow.pyfunc.loaded_model:\n",
       "  artifact_path: models\n",
       "  flavor: mlflow.xgboost\n",
       "  run_id: a1463d2d8974477db5afba630316cd3a"
      ]
     },
     "execution_count": 60,
     "metadata": {},
     "output_type": "execute_result"
    }
   ],
   "source": [
    "loaded_model "
   ]
  },
  {
   "cell_type": "code",
   "execution_count": 61,
   "metadata": {},
   "outputs": [],
   "source": [
    "xgboost_model = mlflow.xgboost.load_model(logged_model) "
   ]
  },
  {
   "cell_type": "code",
   "execution_count": 62,
   "metadata": {},
   "outputs": [
    {
     "data": {
      "text/plain": [
       "<xgboost.core.Booster at 0x7f183c5b6af0>"
      ]
     },
     "execution_count": 62,
     "metadata": {},
     "output_type": "execute_result"
    }
   ],
   "source": [
    "xgboost_model"
   ]
  },
  {
   "cell_type": "code",
   "execution_count": 63,
   "metadata": {},
   "outputs": [],
   "source": [
    "y_pred = xgboost_model.predict(valid)"
   ]
  },
  {
   "cell_type": "code",
   "execution_count": 64,
   "metadata": {},
   "outputs": [
    {
     "data": {
      "text/plain": [
       "array([14.763157 , 19.215132 , 26.539064 , 23.863781 , 31.039145 ,\n",
       "       14.531641 , 24.47528  ,  5.4276433, 18.482895 , 16.208553 ],\n",
       "      dtype=float32)"
      ]
     },
     "execution_count": 64,
     "metadata": {},
     "output_type": "execute_result"
    }
   ],
   "source": [
    "y_pred[:10]"
   ]
  },
  {
   "cell_type": "code",
   "execution_count": 66,
   "metadata": {},
   "outputs": [],
   "source": [
    "from mlflow.tracking import MlflowClient\n",
    "\n",
    "MLFLOW_URI = \"sqlite:///mlflow.db\"\n",
    "\n",
    "client = MlflowClient(tracking_uri=MLFLOW_URI)"
   ]
  },
  {
   "cell_type": "code",
   "execution_count": 67,
   "metadata": {},
   "outputs": [
    {
     "name": "stderr",
     "output_type": "stream",
     "text": [
      "/tmp/ipykernel_16899/849364539.py:1: FutureWarning: ``mlflow.tracking.client.MlflowClient.list_experiments`` is deprecated. This method will be removed in a future release. Use ``search_experiments()`` instead.\n",
      "  client.list_experiments()\n"
     ]
    },
    {
     "data": {
      "text/plain": [
       "[<Experiment: artifact_location='./mlruns/1', creation_time=1684942754265, experiment_id='1', last_update_time=1684942754265, lifecycle_stage='active', name='NYC_Taxi', tags={}>]"
      ]
     },
     "execution_count": 67,
     "metadata": {},
     "output_type": "execute_result"
    }
   ],
   "source": [
    "client.list_experiments()"
   ]
  },
  {
   "cell_type": "code",
   "execution_count": 75,
   "metadata": {},
   "outputs": [
    {
     "data": {
      "text/plain": [
       "'2'"
      ]
     },
     "execution_count": 75,
     "metadata": {},
     "output_type": "execute_result"
    }
   ],
   "source": [
    "client.create_experiment(name=\"NYC_Taxi_2\")"
   ]
  },
  {
   "cell_type": "code",
   "execution_count": 76,
   "metadata": {},
   "outputs": [],
   "source": [
    "from mlflow.entities import ViewType\n",
    "\n",
    "runs = client.search_runs(\n",
    "    experiment_ids=1,   \n",
    "    filter_string=\"metrics.rmse < 6.8\",\n",
    "    run_view_type=ViewType.ACTIVE_ONLY,\n",
    "    max_results=5,\n",
    "    order_by=[\"metrics.rmse ASC\"])"
   ]
  },
  {
   "cell_type": "code",
   "execution_count": 77,
   "metadata": {},
   "outputs": [
    {
     "name": "stdout",
     "output_type": "stream",
     "text": [
      "run_id: 0481f053af584df59a9b5f14297ef2e5 | rmse: 6.072645374458907 | alpha: 0.5\n",
      "run_id: 88d81d4d77ca40b08eb9308217534dce | rmse: 6.072645374458907 | alpha: 0.5\n",
      "run_id: db6c9d75efc34c09986305d00594046d | rmse: 6.072645374458907 | alpha: 0.5\n",
      "run_id: 8910f88c63bf49778dd453716480c2b8 | rmse: 6.072645374458907 | alpha: 0.5\n",
      "run_id: 989d7934c2704f6c9d431a13cf54008c | rmse: 6.072645374458907 | alpha: 0.5\n"
     ]
    }
   ],
   "source": [
    "for run in runs: \n",
    "    print(\"run_id:\", run.info.run_id, \"| rmse:\", run.data.metrics[\"rmse\"], \"| alpha:\", run.data.params[\"alpha\"])"
   ]
  },
  {
   "cell_type": "code",
   "execution_count": 78,
   "metadata": {},
   "outputs": [],
   "source": [
    "import mlflow \n",
    "\n",
    "mlflow.set_tracking_uri(MLFLOW_URI)"
   ]
  },
  {
   "cell_type": "code",
   "execution_count": 80,
   "metadata": {},
   "outputs": [
    {
     "name": "stderr",
     "output_type": "stream",
     "text": [
      "Successfully registered model 'NYC_Taxi_2'.\n",
      "2023/05/30 12:29:45 INFO mlflow.tracking._model_registry.client: Waiting up to 300 seconds for model version to finish creation.                     Model name: NYC_Taxi_2, version 1\n",
      "Created version '1' of model 'NYC_Taxi_2'.\n"
     ]
    },
    {
     "data": {
      "text/plain": [
       "<ModelVersion: creation_timestamp=1685438985520, current_stage='None', description=None, last_updated_timestamp=1685438985520, name='NYC_Taxi_2', run_id='0481f053af584df59a9b5f14297ef2e5', run_link=None, source='./mlruns/1/0481f053af584df59a9b5f14297ef2e5/artifacts/model', status='READY', status_message=None, tags={}, user_id=None, version=1>"
      ]
     },
     "execution_count": 80,
     "metadata": {},
     "output_type": "execute_result"
    }
   ],
   "source": [
    "run_id = \"0481f053af584df59a9b5f14297ef2e5\"\n",
    "model_uri = f\"runs:/{run_id}/model\"\n",
    "mlflow.register_model(model_uri=model_uri, name=\"NYC_Taxi_2\")"
   ]
  },
  {
   "cell_type": "code",
   "execution_count": 81,
   "metadata": {},
   "outputs": [
    {
     "data": {
      "text/plain": [
       "'runs:/0481f053af584df59a9b5f14297ef2e5/model'"
      ]
     },
     "execution_count": 81,
     "metadata": {},
     "output_type": "execute_result"
    }
   ],
   "source": [
    "model_uri"
   ]
  },
  {
   "cell_type": "code",
   "execution_count": 82,
   "metadata": {},
   "outputs": [
    {
     "name": "stderr",
     "output_type": "stream",
     "text": [
      "/tmp/ipykernel_16899/1629620035.py:1: FutureWarning: ``mlflow.tracking.client.MlflowClient.list_registered_models`` is deprecated. This method will be removed in a future release. Use ``search_registered_models()`` instead.\n",
      "  client.list_registered_models()\n"
     ]
    },
    {
     "data": {
      "text/plain": [
       "[<RegisteredModel: creation_timestamp=1685435280424, description='', last_updated_timestamp=1685435707026, latest_versions=[<ModelVersion: creation_timestamp=1685435282625, current_stage='Staging', description='', last_updated_timestamp=1685435707026, name='NYC Taxi Regression', run_id='a1463d2d8974477db5afba630316cd3a', run_link='', source='./mlruns/1/a1463d2d8974477db5afba630316cd3a/artifacts/models', status='READY', status_message=None, tags={}, user_id=None, version=1>], name='NYC Taxi Regression', tags={}>,\n",
       " <RegisteredModel: creation_timestamp=1685438985105, description=None, last_updated_timestamp=1685438985520, latest_versions=[<ModelVersion: creation_timestamp=1685438985520, current_stage='None', description=None, last_updated_timestamp=1685438985520, name='NYC_Taxi_2', run_id='0481f053af584df59a9b5f14297ef2e5', run_link=None, source='./mlruns/1/0481f053af584df59a9b5f14297ef2e5/artifacts/model', status='READY', status_message=None, tags={}, user_id=None, version=1>], name='NYC_Taxi_2', tags={}>]"
      ]
     },
     "execution_count": 82,
     "metadata": {},
     "output_type": "execute_result"
    }
   ],
   "source": [
    "client.list_registered_models()"
   ]
  },
  {
   "cell_type": "code",
   "execution_count": 90,
   "metadata": {},
   "outputs": [
    {
     "data": {
      "text/plain": [
       "[<ModelVersion: creation_timestamp=1685435282625, current_stage='Staging', description='', last_updated_timestamp=1685435707026, name='NYC Taxi Regression', run_id='a1463d2d8974477db5afba630316cd3a', run_link='', source='./mlruns/1/a1463d2d8974477db5afba630316cd3a/artifacts/models', status='READY', status_message=None, tags={}, user_id=None, version=1>]"
      ]
     },
     "execution_count": 90,
     "metadata": {},
     "output_type": "execute_result"
    }
   ],
   "source": [
    "model_name = \"NYC Taxi Regression\"\n",
    "client.get_latest_versions(name=model_name)"
   ]
  },
  {
   "cell_type": "code",
   "execution_count": 92,
   "metadata": {},
   "outputs": [
    {
     "data": {
      "text/plain": [
       "<ModelVersion: creation_timestamp=1685438985520, current_stage='Staging', description=None, last_updated_timestamp=1685439638929, name='NYC_Taxi_2', run_id='0481f053af584df59a9b5f14297ef2e5', run_link=None, source='./mlruns/1/0481f053af584df59a9b5f14297ef2e5/artifacts/model', status='READY', status_message=None, tags={}, user_id=None, version=1>"
      ]
     },
     "execution_count": 92,
     "metadata": {},
     "output_type": "execute_result"
    }
   ],
   "source": [
    "staged_model = \"NYC_Taxi_2\"\n",
    "client.transition_model_version_stage(\n",
    "    name=staged_model,\n",
    "    version=1,\n",
    "    stage=\"Staging\",\n",
    ")"
   ]
  },
  {
   "cell_type": "code",
   "execution_count": 93,
   "metadata": {},
   "outputs": [
    {
     "data": {
      "text/plain": [
       "<ModelVersion: creation_timestamp=1685435282625, current_stage='Production', description='', last_updated_timestamp=1685439646255, name='NYC Taxi Regression', run_id='a1463d2d8974477db5afba630316cd3a', run_link='', source='./mlruns/1/a1463d2d8974477db5afba630316cd3a/artifacts/models', status='READY', status_message=None, tags={}, user_id=None, version=1>"
      ]
     },
     "execution_count": 93,
     "metadata": {},
     "output_type": "execute_result"
    }
   ],
   "source": [
    "client.transition_model_version_stage(\n",
    "    name=model_name,\n",
    "    version=1,\n",
    "    stage=\"Production\",\n",
    "    archive_existing_versions=True)   "
   ]
  },
  {
   "cell_type": "code",
   "execution_count": null,
   "metadata": {},
   "outputs": [],
   "source": []
  }
 ],
 "metadata": {
  "kernelspec": {
   "display_name": "base",
   "language": "python",
   "name": "python3"
  },
  "language_info": {
   "codemirror_mode": {
    "name": "ipython",
    "version": 3
   },
   "file_extension": ".py",
   "mimetype": "text/x-python",
   "name": "python",
   "nbconvert_exporter": "python",
   "pygments_lexer": "ipython3",
   "version": "3.9.16"
  },
  "orig_nbformat": 4
 },
 "nbformat": 4,
 "nbformat_minor": 2
}
